{
 "cells": [
  {
   "cell_type": "markdown",
   "metadata": {},
   "source": [
    "## Gradient Checking\n",
    "\n",
    "To determine whether the gradient calculation is performed correctly, I've implemented a simple gradient checker using information from this [online article](https://towardsdatascience.com/how-to-debug-a-neural-network-with-gradient-checking-41deec0357a9).<br>\n",
    "\n",
    "We start by approximating the gradient of the model using the limit definition of a derivative:\n",
    "$$\\frac{d}{d \\theta}J(\\theta) = \\lim\\limits_{\\epsilon \\rightarrow 0} \\frac{J(\\theta + \\epsilon) - J(\\theta - \\epsilon)}{2\\epsilon}$$\n",
    "Where $J$ represents our cost function, and $\\theta$ represents our model's parameters. We can use an arbitrarily small value for $\\epsilon$ (1e-4 by default) to approximate the gradient.<br>\n",
    "Then, we calculate the normalized distance between the actual and approximated gradient vectors, as follows:\n",
    "$$\\text{distance} = \\frac{\\| d\\theta_{approx} - d\\theta \\|_2}{\\| d\\theta_{approx} \\|_2 + \\| d\\theta \\|_2}$$\n",
    "If the distance is sufficiently small (certainly less than $\\epsilon$), the gradient is *probably* correct.<br>\n",
    "The source code for the `gradient_check()` function can be found in `/src/sandbox/utils.py`."
   ]
  },
  {
   "cell_type": "code",
   "execution_count": 39,
   "metadata": {},
   "outputs": [],
   "source": [
    "from importlib import reload\n",
    "import numpy as np\n",
    "from sandbox import model, layers, activations, costs, utils"
   ]
  },
  {
   "cell_type": "markdown",
   "metadata": {},
   "source": [
    "Checking activation functions"
   ]
  },
  {
   "cell_type": "code",
   "execution_count": 40,
   "metadata": {},
   "outputs": [
    {
     "name": "stdout",
     "output_type": "stream",
     "text": [
      "1.2382259724025657e-08\n"
     ]
    }
   ],
   "source": [
    "\n",
    "reload(activations)\n",
    "\n",
    "# Create dummy data\n",
    "X = np.random.randn(100, 1)\n",
    "Y = np.random.randint(0, 2, (100, 1))\n",
    "\n",
    "# Create model\n",
    "activation = model.Model()\n",
    "activation.add(layers.Dense(units=10, activation=activations.ReLU()))\n",
    "activation.add(layers.Dense(units=10, activation=activations.Linear()))\n",
    "activation.add(layers.Dense(units=10, activation=activations.Arctan()))\n",
    "activation.add(layers.Dense(units=10, activation=activations.BentIdentity()))\n",
    "activation.add(layers.Dense(units=10, activation=activations.Linear()))\n",
    "activation.add(layers.Dense(units=10, activation=activations.LeakyReLU(alpha=0.05)))\n",
    "activation.add(layers.Dense(units=10, activation=activations.Tanh()))\n",
    "activation.add(layers.Dense(units=10, activation=activations.ELU()))\n",
    "activation.add(layers.Dense(units=10, activation=activations.SELU()))\n",
    "activation.add(layers.Dense(units=10, activation=activations.SLU()))\n",
    "activation.add(layers.Dense(units=10, activation=activations.Softplus()))\n",
    "activation.add(layers.Dense(units=10, activation=activations.Softsign()))\n",
    "activation.add(layers.Dense(units=10, activation=activations.Gaussian()))\n",
    "activation.add(layers.Dense(units=10, activation=activations.PiecewiseLinear()))\n",
    "activation.add(layers.Dense(units=1, activation=activations.Sigmoid()))\n",
    "activation.configure(cost_type=costs.BinaryCrossentropy())\n",
    "activation.initialize_parameters(input_size=X.shape[1])\n",
    "\n",
    "# Check gradient\n",
    "diff = utils.gradient_check(activation, X, Y)\n",
    "print(diff)"
   ]
  },
  {
   "cell_type": "markdown",
   "metadata": {},
   "source": [
    "Checking cost functions"
   ]
  },
  {
   "cell_type": "code",
   "execution_count": 79,
   "metadata": {},
   "outputs": [
    {
     "name": "stdout",
     "output_type": "stream",
     "text": [
      "2.637607713721354e-10\n",
      "6.981784894868495e-10\n",
      "2.19527231535713e-09\n"
     ]
    }
   ],
   "source": [
    "reload(costs)\n",
    "\n",
    "# Create dummy data\n",
    "X = np.random.randn(100, 1)\n",
    "Y = np.random.randint(0, 2, (100, 1))\n",
    "\n",
    "# Create model\n",
    "cost = model.Model()\n",
    "cost.add(layers.Dense(units=4, activation=activations.ReLU()))\n",
    "cost.add(layers.Dense(units=2, activation=activations.ReLU()))\n",
    "cost.add(layers.Dense(units=1, activation=activations.Sigmoid()))\n",
    "cost.configure(cost_type=None)\n",
    "cost.initialize_parameters(input_size=X.shape[1])\n",
    "\n",
    "# Check gradients for each cost type\n",
    "\n",
    "# Binary Cross-Entropy\n",
    "cost.configure(cost_type=costs.BinaryCrossentropy())\n",
    "diff = utils.gradient_check(cost, X, Y)\n",
    "print(diff)\n",
    "\n",
    "# Mean Squared Error\n",
    "cost.configure(cost_type=costs.MSE())\n",
    "diff = utils.gradient_check(cost, X, Y)\n",
    "print(diff)\n",
    "\n",
    "# Mean Absolute Error\n",
    "cost.configure(cost_type=costs.MAE())\n",
    "diff = utils.gradient_check(cost, X, Y)\n",
    "print(diff)"
   ]
  },
  {
   "cell_type": "markdown",
   "metadata": {},
   "source": [
    "Checking layer types - excluding dropout, which does not work with gradient checking"
   ]
  },
  {
   "cell_type": "code",
   "execution_count": 80,
   "metadata": {},
   "outputs": [
    {
     "name": "stdout",
     "output_type": "stream",
     "text": [
      "1.0431558123944667e-09\n"
     ]
    }
   ],
   "source": [
    "reload(layers)\n",
    "\n",
    "# Create dummy data\n",
    "X = np.random.randn(100, 1)\n",
    "Y = np.random.randint(0, 2, (100, 1))\n",
    "\n",
    "# Create model\n",
    "layer = model.Model()\n",
    "layer.add(layers.Dense(units=4, activation=activations.ReLU()))\n",
    "layer.add(layers.Dense(units=2, activation=activations.ReLU()))\n",
    "layer.add(layers.Dense(units=1, activation=activations.Sigmoid()))\n",
    "layer.configure(cost_type=costs.BinaryCrossentropy())\n",
    "layer.initialize_parameters(input_size=X.shape[1])\n",
    "\n",
    "# Check gradient\n",
    "diff = utils.gradient_check(layer, X, Y)\n",
    "print(diff)"
   ]
  }
 ],
 "metadata": {
  "kernelspec": {
   "display_name": "Python 3",
   "language": "python",
   "name": "python3"
  },
  "language_info": {
   "codemirror_mode": {
    "name": "ipython",
    "version": 3
   },
   "file_extension": ".py",
   "mimetype": "text/x-python",
   "name": "python",
   "nbconvert_exporter": "python",
   "pygments_lexer": "ipython3",
   "version": "3.11.3"
  }
 },
 "nbformat": 4,
 "nbformat_minor": 2
}
