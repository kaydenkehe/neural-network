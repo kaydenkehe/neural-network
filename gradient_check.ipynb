{
 "cells": [
  {
   "cell_type": "markdown",
   "metadata": {},
   "source": [
    "## Gradient Checking\n",
    "\n",
    "To determine whether the gradient calculation is performed correctly, I've implemented a simple gradient checker using information from this [online article](https://towardsdatascience.com/how-to-debug-a-neural-network-with-gradient-checking-41deec0357a9).<br>\n",
    "\n",
    "We start by approximating the gradient of the model using the limit definition of a derivative:\n",
    "$$\\frac{d}{d \\theta}J(\\theta) = \\lim\\limits_{\\epsilon \\rightarrow 0} \\frac{J(\\theta + \\epsilon) - J(\\theta - \\epsilon)}{2\\epsilon}$$\n",
    "Where $J$ represents our cost function, and $\\theta$ represents our model's parameters. We can use an arbitrarily small value for $\\epsilon$ (1e-4 by default) to approximate the gradient.<br>\n",
    "Then, we calculate the normalized distance between the actual and approximated gradient vectors, as follows:\n",
    "$$\\text{distance} = \\frac{\\| d\\theta_{approx} - d\\theta \\|_2}{\\| d\\theta_{approx} \\|_2 + \\| d\\theta \\|_2}$$\n",
    "If the distance is sufficiently small (less than  $\\epsilon^2$), the gradient is *probably* correct.<br>\n",
    "The source code for the `gradient_check()` function can be found in `/src/sandbox/utils.py`.<br>\n",
    "\n",
    "Last update: 12/24/23"
   ]
  },
  {
   "cell_type": "code",
   "execution_count": 1,
   "metadata": {},
   "outputs": [],
   "source": [
    "from importlib import reload\n",
    "import numpy as np\n",
    "from sandbox import activations, costs, initializers, layers, model, optimizers, utils"
   ]
  },
  {
   "cell_type": "markdown",
   "metadata": {},
   "source": [
    "Checking activation functions"
   ]
  },
  {
   "cell_type": "code",
   "execution_count": 2,
   "metadata": {},
   "outputs": [
    {
     "ename": "ValueError",
     "evalue": "shapes (3,100) and (3,16) not aligned: 100 (dim 1) != 3 (dim 0)",
     "output_type": "error",
     "traceback": [
      "\u001b[1;31m---------------------------------------------------------------------------\u001b[0m",
      "\u001b[1;31mValueError\u001b[0m                                Traceback (most recent call last)",
      "Cell \u001b[1;32mIn[2], line 39\u001b[0m\n\u001b[0;32m     32\u001b[0m activation\u001b[38;5;241m.\u001b[39mconfigure(\n\u001b[0;32m     33\u001b[0m     input_size\u001b[38;5;241m=\u001b[39m\u001b[38;5;241m3\u001b[39m,\n\u001b[0;32m     34\u001b[0m     cost_type\u001b[38;5;241m=\u001b[39mcosts\u001b[38;5;241m.\u001b[39mCategoricalCrossentropy(),\n\u001b[0;32m     35\u001b[0m     optimizer\u001b[38;5;241m=\u001b[39moptimizers\u001b[38;5;241m.\u001b[39mSGD(),\n\u001b[0;32m     36\u001b[0m )\n\u001b[0;32m     38\u001b[0m \u001b[38;5;66;03m# Check gradient\u001b[39;00m\n\u001b[1;32m---> 39\u001b[0m diff \u001b[38;5;241m=\u001b[39m \u001b[43mutils\u001b[49m\u001b[38;5;241;43m.\u001b[39;49m\u001b[43mgradient_check\u001b[49m\u001b[43m(\u001b[49m\u001b[43mactivation\u001b[49m\u001b[43m,\u001b[49m\u001b[43m \u001b[49m\u001b[43mX\u001b[49m\u001b[43m,\u001b[49m\u001b[43m \u001b[49m\u001b[43mY\u001b[49m\u001b[43m)\u001b[49m\n\u001b[0;32m     40\u001b[0m \u001b[38;5;28mprint\u001b[39m(diff)\n",
      "File \u001b[1;32mc:\\users\\kayde\\onedrive\\documents\\ai\\neural-network\\neural-network\\src\\sandbox\\utils.py:10\u001b[0m, in \u001b[0;36mgradient_check\u001b[1;34m(model, X, Y, epsilon)\u001b[0m\n\u001b[0;32m      7\u001b[0m \u001b[38;5;28;01mdef\u001b[39;00m \u001b[38;5;21mgradient_check\u001b[39m(model, X, Y, epsilon\u001b[38;5;241m=\u001b[39m\u001b[38;5;241m1e-4\u001b[39m):\n\u001b[0;32m      8\u001b[0m \n\u001b[0;32m      9\u001b[0m     \u001b[38;5;66;03m# Calculate actual gradient\u001b[39;00m\n\u001b[1;32m---> 10\u001b[0m     AL \u001b[38;5;241m=\u001b[39m \u001b[43mmodel\u001b[49m\u001b[38;5;241;43m.\u001b[39;49m\u001b[43mforward\u001b[49m\u001b[43m(\u001b[49m\u001b[43mX\u001b[49m\u001b[38;5;241;43m.\u001b[39;49m\u001b[43mT\u001b[49m\u001b[43m)\u001b[49m\n\u001b[0;32m     11\u001b[0m     grad \u001b[38;5;241m=\u001b[39m model\u001b[38;5;241m.\u001b[39mbackward(AL, Y\u001b[38;5;241m.\u001b[39mT)\n\u001b[0;32m     13\u001b[0m     \u001b[38;5;66;03m# Declare empty arrays for gradient and gradient approximation\u001b[39;00m\n",
      "File \u001b[1;32mc:\\users\\kayde\\onedrive\\documents\\ai\\neural-network\\neural-network\\src\\sandbox\\model.py:96\u001b[0m, in \u001b[0;36mModel.forward\u001b[1;34m(self, A, train)\u001b[0m\n\u001b[0;32m     94\u001b[0m \u001b[38;5;28;01mfor\u001b[39;00m layer \u001b[38;5;129;01min\u001b[39;00m layers:\n\u001b[0;32m     95\u001b[0m     A_prev \u001b[38;5;241m=\u001b[39m A\n\u001b[1;32m---> 96\u001b[0m     A, Z \u001b[38;5;241m=\u001b[39m \u001b[38;5;28;43mself\u001b[39;49m\u001b[38;5;241;43m.\u001b[39;49m\u001b[43mlayers\u001b[49m\u001b[43m[\u001b[49m\u001b[43mlayer\u001b[49m\u001b[43m]\u001b[49m\u001b[38;5;241;43m.\u001b[39;49m\u001b[43mforward\u001b[49m\u001b[43m(\u001b[49m\u001b[43mA_prev\u001b[49m\u001b[43m,\u001b[49m\u001b[43m \u001b[49m\u001b[38;5;28;43mself\u001b[39;49m\u001b[38;5;241;43m.\u001b[39;49m\u001b[43mparameters\u001b[49m\u001b[43m[\u001b[49m\u001b[43mlayer\u001b[49m\u001b[43m]\u001b[49m\u001b[43m[\u001b[49m\u001b[38;5;124;43m'\u001b[39;49m\u001b[38;5;124;43mW\u001b[39;49m\u001b[38;5;124;43m'\u001b[39;49m\u001b[43m]\u001b[49m\u001b[43m,\u001b[49m\u001b[43m \u001b[49m\u001b[38;5;28;43mself\u001b[39;49m\u001b[38;5;241;43m.\u001b[39;49m\u001b[43mparameters\u001b[49m\u001b[43m[\u001b[49m\u001b[43mlayer\u001b[49m\u001b[43m]\u001b[49m\u001b[43m[\u001b[49m\u001b[38;5;124;43m'\u001b[39;49m\u001b[38;5;124;43mb\u001b[39;49m\u001b[38;5;124;43m'\u001b[39;49m\u001b[43m]\u001b[49m\u001b[43m)\u001b[49m\n\u001b[0;32m     97\u001b[0m     \u001b[38;5;28mself\u001b[39m\u001b[38;5;241m.\u001b[39mcaches\u001b[38;5;241m.\u001b[39mappend({\n\u001b[0;32m     98\u001b[0m         \u001b[38;5;124m'\u001b[39m\u001b[38;5;124mA_prev\u001b[39m\u001b[38;5;124m'\u001b[39m: A_prev,\n\u001b[0;32m     99\u001b[0m         \u001b[38;5;124m\"\u001b[39m\u001b[38;5;124mW\u001b[39m\u001b[38;5;124m\"\u001b[39m: \u001b[38;5;28mself\u001b[39m\u001b[38;5;241m.\u001b[39mparameters[layer][\u001b[38;5;124m'\u001b[39m\u001b[38;5;124mW\u001b[39m\u001b[38;5;124m'\u001b[39m],\n\u001b[0;32m    100\u001b[0m         \u001b[38;5;124m\"\u001b[39m\u001b[38;5;124mb\u001b[39m\u001b[38;5;124m\"\u001b[39m: \u001b[38;5;28mself\u001b[39m\u001b[38;5;241m.\u001b[39mparameters[layer][\u001b[38;5;124m'\u001b[39m\u001b[38;5;124mb\u001b[39m\u001b[38;5;124m'\u001b[39m],\n\u001b[0;32m    101\u001b[0m         \u001b[38;5;124m\"\u001b[39m\u001b[38;5;124mZ\u001b[39m\u001b[38;5;124m\"\u001b[39m: Z\n\u001b[0;32m    102\u001b[0m     })\n\u001b[0;32m    104\u001b[0m \u001b[38;5;28;01mreturn\u001b[39;00m A\n",
      "File \u001b[1;32mc:\\users\\kayde\\onedrive\\documents\\ai\\neural-network\\neural-network\\src\\sandbox\\layers.py:30\u001b[0m, in \u001b[0;36mDense.forward\u001b[1;34m(self, A_prev, W, b)\u001b[0m\n\u001b[0;32m     29\u001b[0m \u001b[38;5;28;01mdef\u001b[39;00m \u001b[38;5;21mforward\u001b[39m(\u001b[38;5;28mself\u001b[39m, A_prev, W, b):\n\u001b[1;32m---> 30\u001b[0m     Z \u001b[38;5;241m=\u001b[39m \u001b[43mnp\u001b[49m\u001b[38;5;241;43m.\u001b[39;49m\u001b[43mdot\u001b[49m\u001b[43m(\u001b[49m\u001b[43mA_prev\u001b[49m\u001b[43m,\u001b[49m\u001b[43m \u001b[49m\u001b[43mW\u001b[49m\u001b[43m)\u001b[49m \u001b[38;5;241m+\u001b[39m b \u001b[38;5;66;03m# Compute Z\u001b[39;00m\n\u001b[0;32m     31\u001b[0m     A \u001b[38;5;241m=\u001b[39m \u001b[38;5;28mself\u001b[39m\u001b[38;5;241m.\u001b[39mactivation\u001b[38;5;241m.\u001b[39mforward(Z) \u001b[38;5;66;03m# Compute A using the given activation function\u001b[39;00m\n\u001b[0;32m     33\u001b[0m     \u001b[38;5;28;01mreturn\u001b[39;00m A, Z\n",
      "\u001b[1;31mValueError\u001b[0m: shapes (3,100) and (3,16) not aligned: 100 (dim 1) != 3 (dim 0)"
     ]
    }
   ],
   "source": [
    "\n",
    "reload(activations)\n",
    "reload(costs)\n",
    "reload(layers)\n",
    "\n",
    "# Create dummy data\n",
    "X = np.random.randn(100, 3)\n",
    "Y = np.random.randint(0, 2, (100, 2))\n",
    "\n",
    "# Create model\n",
    "activation = model.Model()\n",
    "# activation.add(layers.Dense(units=10, activation=activations.ReLU()))\n",
    "# activation.add(layers.Dense(units=10, activation=activations.Linear()))\n",
    "# activation.add(layers.Dense(units=10, activation=activations.Arctan()))\n",
    "# activation.add(layers.Dense(units=10, activation=activations.BentIdentity()))\n",
    "# activation.add(layers.Dense(units=10, activation=activations.Linear()))\n",
    "# activation.add(layers.Dense(units=10, activation=activations.LeakyReLU(alpha=0.05)))\n",
    "# activation.add(layers.Dense(units=10, activation=activations.Tanh()))\n",
    "# activation.add(layers.Dense(units=10, activation=activations.ELU()))\n",
    "# activation.add(layers.Dense(units=10, activation=activations.SELU()))\n",
    "# activation.add(layers.Dense(units=10, activation=activations.SLU()))\n",
    "# activation.add(layers.Dense(units=10, activation=activations.Softplus()))\n",
    "# activation.add(layers.Dense(units=10, activation=activations.Softsign()))\n",
    "# activation.add(layers.Dense(units=10, activation=activations.Gaussian()))\n",
    "# activation.add(layers.Dense(units=10, activation=activations.PiecewiseLinear()))\n",
    "# activation.add(layers.Dense(units=10, activation=activations.Softmax()))\n",
    "# activation.add(layers.Dense(units=1, activation=activations.Sigmoid()))\n",
    "\n",
    "activation.add(layers.Dense(units=16, activation=activations.ReLU()))\n",
    "activation.add(layers.Dense(units=8, activation=activations.ReLU()))\n",
    "activation.add(layers.Dense(units=2, activation=activations.Softmax()))\n",
    "\n",
    "activation.configure(\n",
    "    input_size=3,\n",
    "    cost_type=costs.CategoricalCrossentropy(),\n",
    "    optimizer=optimizers.SGD(),\n",
    ")\n",
    "\n",
    "# Check gradient\n",
    "diff = utils.gradient_check(activation, X, Y)\n",
    "print(diff)"
   ]
  },
  {
   "cell_type": "markdown",
   "metadata": {},
   "source": [
    "Checking cost functions"
   ]
  },
  {
   "cell_type": "code",
   "execution_count": 38,
   "metadata": {},
   "outputs": [
    {
     "name": "stdout",
     "output_type": "stream",
     "text": [
      "2.22407724488422e-10\n",
      "5.893096966740448e-11\n",
      "1.4485176430592358e-10\n",
      "5.2466482580955975e-11\n"
     ]
    }
   ],
   "source": [
    "reload(costs)\n",
    "\n",
    "# Create dummy data\n",
    "X = np.random.randn(100, 1)\n",
    "Y = np.random.randint(0, 2, (100, 1))\n",
    "\n",
    "# Create model\n",
    "cost = model.Model()\n",
    "cost.add(layers.Dense(units=4, activation=activations.ReLU()))\n",
    "cost.add(layers.Dense(units=2, activation=activations.ReLU()))\n",
    "cost.add(layers.Dense(units=1, activation=activations.Sigmoid()))\n",
    "\n",
    "# Check gradients for each cost type\n",
    "\n",
    "# Binary Cross-Entropy\n",
    "cost.configure(\n",
    "    input_size=1,\n",
    "    cost_type=costs.BinaryCrossentropy(),\n",
    "    optimizer=optimizers.SGD()\n",
    ")\n",
    "diff = utils.gradient_check(cost, X, Y)\n",
    "print(diff)\n",
    "\n",
    "# Categorical Cross-Entropy\n",
    "cost.configure(\n",
    "    input_size=1,\n",
    "    cost_type=costs.CategoricalCrossentropy(),\n",
    "    optimizer=optimizers.SGD()\n",
    ")\n",
    "diff = utils.gradient_check(cost, X, Y)\n",
    "print(diff)\n",
    "\n",
    "# Mean Squared Error\n",
    "cost.configure(\n",
    "    input_size=1,\n",
    "    cost_type=costs.MSE(),\n",
    "    optimizer=optimizers.SGD()\n",
    ")\n",
    "diff = utils.gradient_check(cost, X, Y)\n",
    "print(diff)\n",
    "\n",
    "# Mean Absolute Error\n",
    "cost.configure(\n",
    "    input_size=1,\n",
    "    cost_type=costs.MAE(),\n",
    "    optimizer=optimizers.SGD()\n",
    ")\n",
    "diff = utils.gradient_check(cost, X, Y)\n",
    "print(diff)"
   ]
  },
  {
   "cell_type": "markdown",
   "metadata": {},
   "source": [
    "Checking layer types - excluding dropout, which does not work with gradient checking"
   ]
  },
  {
   "cell_type": "code",
   "execution_count": 39,
   "metadata": {},
   "outputs": [
    {
     "name": "stdout",
     "output_type": "stream",
     "text": [
      "6.804909933078426e-10\n"
     ]
    }
   ],
   "source": [
    "reload(layers)\n",
    "\n",
    "# Create dummy data\n",
    "X = np.random.randn(100, 1)\n",
    "Y = np.random.randint(0, 2, (100, 1))\n",
    "\n",
    "# Create model\n",
    "layer = model.Model()\n",
    "layer.add(layers.Dense(units=4, activation=activations.ReLU()))\n",
    "layer.add(layers.Dense(units=2, activation=activations.ReLU()))\n",
    "layer.add(layers.Dense(units=1, activation=activations.Sigmoid()))\n",
    "\n",
    "layer.configure(\n",
    "    input_size=1,\n",
    "    cost_type=costs.BinaryCrossentropy(),\n",
    "    optimizer=optimizers.SGD()\n",
    ")\n",
    "\n",
    "# Check gradient\n",
    "diff = utils.gradient_check(layer, X, Y)\n",
    "print(diff)"
   ]
  }
 ],
 "metadata": {
  "kernelspec": {
   "display_name": "Python 3",
   "language": "python",
   "name": "python3"
  },
  "language_info": {
   "codemirror_mode": {
    "name": "ipython",
    "version": 3
   },
   "file_extension": ".py",
   "mimetype": "text/x-python",
   "name": "python",
   "nbconvert_exporter": "python",
   "pygments_lexer": "ipython3",
   "version": "3.11.3"
  }
 },
 "nbformat": 4,
 "nbformat_minor": 2
}
