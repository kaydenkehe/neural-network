{
 "cells": [
  {
   "cell_type": "markdown",
   "metadata": {},
   "source": [
    "## Point Classifier\n",
    "Determine wheter a point is above or below an arbitrary line in 2D space<br>\n",
    "Last update: 1/1/24"
   ]
  },
  {
   "cell_type": "code",
   "execution_count": 1,
   "metadata": {},
   "outputs": [],
   "source": [
    "import cupy as np\n",
    "from importlib import reload\n",
    "from sandbox import activations, costs, initializers, layers, model, optimizers, utils"
   ]
  },
  {
   "cell_type": "code",
   "execution_count": 2,
   "metadata": {},
   "outputs": [],
   "source": [
    "line = lambda x: x**2 - 2\n",
    "mean = 0\n",
    "sd = 5\n",
    "num_train = 100\n",
    "num_test = 100\n",
    "\n",
    "# Create training and test input data - Points in 2D space with given mean and sd\n",
    "train_x = np.random.normal(mean, sd, (num_train, 2))\n",
    "test_x = np.random.normal(mean, sd, (num_test, 2))\n",
    "\n",
    "# Create labels by determining whether the input is above or below the line\n",
    "train_y = np.where(train_x[:, 1] > line(train_x[:, 0]), 1, 0).reshape(-1, 1)\n",
    "test_y = np.where(test_x[:, 1] > line(test_x[:, 0]), 1, 0).reshape(-1, 1)"
   ]
  },
  {
   "cell_type": "code",
   "execution_count": 3,
   "metadata": {},
   "outputs": [
    {
     "name": "stdout",
     "output_type": "stream",
     "text": [
      "Cost on epoch 8: 0.39174\n",
      "Cost on epoch 16: 0.3014\n",
      "Cost on epoch 24: 0.24974\n",
      "Cost on epoch 32: 0.21208\n",
      "Cost on epoch 40: 0.18152\n",
      "Cost on epoch 48: 0.15944\n",
      "Cost on epoch 56: 0.14321\n",
      "Cost on epoch 64: 0.13312\n",
      "Cost on epoch 72: 0.12289\n",
      "Cost on epoch 80: 0.11314\n"
     ]
    }
   ],
   "source": [
    "reload(model)\n",
    "\n",
    "# Create model\n",
    "point = model.Model(cuda=True)\n",
    "point.add(layers.Dense(units=8, activation=activations.ReLU()))\n",
    "point.add(layers.Dense(units=8, activation=activations.ReLU()))\n",
    "point.add(layers.Dense(units=1, activation=activations.Sigmoid()))\n",
    "\n",
    "point.configure(\n",
    "    input_size=train_x.shape[1],\n",
    "    cost_type=costs.BinaryCrossentropy(),\n",
    "    optimizer=optimizers.Adam()\n",
    ")\n",
    "\n",
    "# Train model\n",
    "point.train(train_x, train_y, epochs=80, batch_size=64, verbose=True)"
   ]
  },
  {
   "cell_type": "code",
   "execution_count": 4,
   "metadata": {},
   "outputs": [
    {
     "name": "stdout",
     "output_type": "stream",
     "text": [
      "Training Accuracy: 0.96\n",
      "Testing Accuracy: 0.92\n"
     ]
    }
   ],
   "source": [
    "# Evaluate model on test data\n",
    "pred_train = point.predict(train_x)\n",
    "print('Training Accuracy:', utils.evaluate(pred_train, train_y))\n",
    "pred_test = point.predict(test_x)\n",
    "print('Testing Accuracy:', utils.evaluate(pred_test, test_y))"
   ]
  }
 ],
 "metadata": {
  "kernelspec": {
   "display_name": "Python 3",
   "language": "python",
   "name": "python3"
  },
  "language_info": {
   "codemirror_mode": {
    "name": "ipython",
    "version": 3
   },
   "file_extension": ".py",
   "mimetype": "text/x-python",
   "name": "python",
   "nbconvert_exporter": "python",
   "pygments_lexer": "ipython3",
   "version": "3.11.3"
  }
 },
 "nbformat": 4,
 "nbformat_minor": 2
}
