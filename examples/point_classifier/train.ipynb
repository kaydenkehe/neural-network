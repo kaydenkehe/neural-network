{
 "cells": [
  {
   "cell_type": "markdown",
   "metadata": {},
   "source": [
    "## Point Classifier\n",
    "Determine wheter a point is above or below an arbitrary line in 2D space<br>\n",
    "Last update: 12/23/23"
   ]
  },
  {
   "cell_type": "code",
   "execution_count": 1,
   "metadata": {},
   "outputs": [],
   "source": [
    "import cupy as np\n",
    "from importlib import reload\n",
    "from sandbox import model, layers, activations, costs, utils"
   ]
  },
  {
   "cell_type": "code",
   "execution_count": 2,
   "metadata": {},
   "outputs": [],
   "source": [
    "line = lambda x: x**2 - 2\n",
    "mean = 0\n",
    "sd = 5\n",
    "num_train = 100\n",
    "num_test = 100\n",
    "\n",
    "# Create training and test input data - Points in 2D space with given mean and sd\n",
    "train_x = np.random.normal(mean, sd, (num_train, 2))\n",
    "test_x = np.random.normal(mean, sd, (num_test, 2))\n",
    "\n",
    "# Create labels by determining whether the input is above or below the line\n",
    "train_y = np.where(train_x[:, 1] > line(train_x[:, 0]), 1, 0).reshape(-1, 1)\n",
    "test_y = np.where(test_x[:, 1] > line(test_x[:, 0]), 1, 0).reshape(-1, 1)"
   ]
  },
  {
   "cell_type": "code",
   "execution_count": 4,
   "metadata": {},
   "outputs": [
    {
     "name": "stdout",
     "output_type": "stream",
     "text": [
      "Cost on epoch 0: 0.28285\n",
      "Cost on epoch 30: 0.23497\n",
      "Cost on epoch 60: 0.21216\n",
      "Cost on epoch 90: 0.19772\n",
      "Cost on epoch 120: 0.18696\n",
      "Cost on epoch 150: 0.17842\n",
      "Cost on epoch 180: 0.17122\n",
      "Cost on epoch 210: 0.16501\n",
      "Cost on epoch 240: 0.15932\n",
      "Cost on epoch 270: 0.15468\n",
      "Cost on epoch 300: 0.15007\n"
     ]
    }
   ],
   "source": [
    "reload(model)\n",
    "\n",
    "# Create model\n",
    "point = model.Model(cuda=True)\n",
    "point.add(layers.Dense(units=8, activation=activations.ReLU()))\n",
    "point.add(layers.Dense(units=8, activation=activations.ReLU()))\n",
    "point.add(layers.Dense(units=1, activation=activations.Sigmoid()))\n",
    "point.configure(cost_type=costs.BinaryCrossentropy())\n",
    "\n",
    "# Train model\n",
    "point.train(train_x, train_y, learning_rate=0.01, epochs=300, verbose=True)"
   ]
  },
  {
   "cell_type": "code",
   "execution_count": 6,
   "metadata": {},
   "outputs": [
    {
     "name": "stdout",
     "output_type": "stream",
     "text": [
      "Testing Accuracy: 0.89\n"
     ]
    }
   ],
   "source": [
    "# Evaluate model on test data\n",
    "pred = utils.binary_round(point.predict(test_x))\n",
    "print('Testing Accuracy: ' + str(np.round(np.sum((pred == test_y)/test_x.shape[0]), decimals=5)))"
   ]
  }
 ],
 "metadata": {
  "kernelspec": {
   "display_name": "Python 3",
   "language": "python",
   "name": "python3"
  },
  "language_info": {
   "codemirror_mode": {
    "name": "ipython",
    "version": 3
   },
   "file_extension": ".py",
   "mimetype": "text/x-python",
   "name": "python",
   "nbconvert_exporter": "python",
   "pygments_lexer": "ipython3",
   "version": "3.11.3"
  }
 },
 "nbformat": 4,
 "nbformat_minor": 2
}
