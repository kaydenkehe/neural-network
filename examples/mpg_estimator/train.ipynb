{
 "cells": [
  {
   "cell_type": "markdown",
   "metadata": {},
   "source": [
    "## Fuel Efficiency Regression\n",
    "Predict a car's fuel efficiency / MPG"
   ]
  },
  {
   "cell_type": "code",
   "execution_count": 3,
   "metadata": {},
   "outputs": [],
   "source": [
    "import pandas as pd\n",
    "from importlib import reload\n",
    "from sandbox import model, layers, activations, costs, utils"
   ]
  },
  {
   "cell_type": "code",
   "execution_count": 13,
   "metadata": {},
   "outputs": [],
   "source": [
    "# Fetch fuel efficiency data\n",
    "url = 'http://archive.ics.uci.edu/ml/machine-learning-databases/auto-mpg/auto-mpg.data'\n",
    "column_names = ['MPG', 'Cylinders', 'Displacement', 'Horsepower', 'Weight',\n",
    "                'Acceleration', 'Model Year', 'Origin']\n",
    "\n",
    "raw_dataset = pd.read_csv(url, names=column_names,\n",
    "                          na_values='?', comment='\\t',\n",
    "                          sep=' ', skipinitialspace=True)\n",
    "\n",
    "# Remove missing values, drop column I don't want to deal with\n",
    "dataset = raw_dataset.copy()\n",
    "dataset = dataset.dropna().drop('Origin', axis=1)\n",
    "\n",
    "# Seperate labels from features\n",
    "features = dataset.copy()\n",
    "labels = dataset.pop('MPG')\n",
    "\n",
    "# Normalize feature set\n",
    "features = (features - features.mean()) / features.std()\n",
    "\n",
    "# Normalize label set\n",
    "labels_mean = labels.mean()\n",
    "labels_std = labels.std()\n",
    "labels = (labels - labels_mean) / labels_std\n",
    "\n",
    "# Convert dataframes to CuPy arrays\n",
    "input = features.to_numpy()\n",
    "labels = labels.to_numpy().reshape(-1, 1)\n",
    "\n",
    "# Split data into training and test sets\n",
    "train_x = input[50:, :]\n",
    "train_y = labels[50:, :]\n",
    "test_x = input[:50, :]\n",
    "test_y = labels[:50, :]"
   ]
  },
  {
   "cell_type": "code",
   "execution_count": 16,
   "metadata": {},
   "outputs": [],
   "source": [
    "reload(model)\n",
    "\n",
    "# Create model\n",
    "mpg = model.Model()\n",
    "mpg.add(layers.Dense(units=16, activation=activations.ReLU()))\n",
    "mpg.add(layers.Dense(units=4, activation=activations.ReLU()))\n",
    "mpg.add(layers.Dense(units=1, activation=activations.Linear()))\n",
    "mpg.configure(learning_rate=0.3, epochs=2000, cost_type=costs.MSE())\n",
    "\n",
    "# Train model\n",
    "mpg.train(train_x, train_y)"
   ]
  },
  {
   "cell_type": "code",
   "execution_count": 17,
   "metadata": {},
   "outputs": [
    {
     "name": "stdout",
     "output_type": "stream",
     "text": [
      "Test MSE loss:  0.08472945714319007\n"
     ]
    }
   ],
   "source": [
    "pred = mpg.predict(test_x)\n",
    "loss = costs.MSE().forward(pred.T, test_y.T)\n",
    "print('Test MSE loss: ', loss)\n",
    "\n",
    "# Note - because the labels were normalized, model outputs must be adjusted before being used, as so:\n",
    "pred_actual = pred * labels_std + labels_mean"
   ]
  }
 ],
 "metadata": {
  "kernelspec": {
   "display_name": "Python 3",
   "language": "python",
   "name": "python3"
  },
  "language_info": {
   "codemirror_mode": {
    "name": "ipython",
    "version": 3
   },
   "file_extension": ".py",
   "mimetype": "text/x-python",
   "name": "python",
   "nbconvert_exporter": "python",
   "pygments_lexer": "ipython3",
   "version": "3.11.3"
  }
 },
 "nbformat": 4,
 "nbformat_minor": 2
}
