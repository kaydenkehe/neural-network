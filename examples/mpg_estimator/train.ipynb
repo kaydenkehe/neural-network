{
 "cells": [
  {
   "cell_type": "markdown",
   "metadata": {},
   "source": [
    "## Fuel Efficiency Regression\n",
    "Predict a car's fuel efficiency / MPG<br>\n",
    "Last update: 1/1/24"
   ]
  },
  {
   "cell_type": "code",
   "execution_count": 1,
   "metadata": {},
   "outputs": [],
   "source": [
    "from importlib import reload\n",
    "import numpy as np\n",
    "import pandas as pd\n",
    "from sandbox import activations, costs, initializers, layers, model, optimizers, utils"
   ]
  },
  {
   "cell_type": "code",
   "execution_count": 2,
   "metadata": {},
   "outputs": [],
   "source": [
    "# Fetch fuel efficiency data\n",
    "url = 'http://archive.ics.uci.edu/ml/machine-learning-databases/auto-mpg/auto-mpg.data'\n",
    "column_names = ['MPG', 'Cylinders', 'Displacement', 'Horsepower', 'Weight',\n",
    "                'Acceleration', 'Model Year', 'Origin']\n",
    "\n",
    "raw_dataset = pd.read_csv(url, names=column_names,\n",
    "                          na_values='?', comment='\\t',\n",
    "                          sep=' ', skipinitialspace=True)\n",
    "\n",
    "# Remove missing values, drop column I don't want to deal with\n",
    "dataset = raw_dataset.copy()\n",
    "dataset = dataset.dropna().drop('Origin', axis=1)\n",
    "\n",
    "# Seperate labels from features\n",
    "features = dataset.copy()\n",
    "labels = dataset.pop('MPG')\n",
    "\n",
    "# Normalize feature set\n",
    "features = (features - features.mean()) / features.std()\n",
    "\n",
    "# Normalize label set\n",
    "labels_mean = labels.mean()\n",
    "labels_std = labels.std()\n",
    "labels = (labels - labels_mean) / labels_std\n",
    "\n",
    "# Convert dataframes to CuPy arrays\n",
    "input = features.to_numpy()\n",
    "labels = labels.to_numpy().reshape(-1, 1)\n",
    "\n",
    "# Split data into training and test sets\n",
    "train_x = input[50:, :]\n",
    "train_y = labels[50:, :]\n",
    "test_x = input[:50, :]\n",
    "test_y = labels[:50, :]"
   ]
  },
  {
   "cell_type": "code",
   "execution_count": 3,
   "metadata": {},
   "outputs": [
    {
     "name": "stdout",
     "output_type": "stream",
     "text": [
      "Cost on epoch 1: 0.17636\n",
      "Cost on epoch 2: 0.16697\n",
      "Cost on epoch 3: 0.05517\n",
      "Cost on epoch 4: 0.03521\n"
     ]
    }
   ],
   "source": [
    "reload(model)\n",
    "\n",
    "# Create model\n",
    "mpg = model.Model()\n",
    "mpg.add(layers.Dense(units=16, activation=activations.ReLU()))\n",
    "mpg.add(layers.Dense(units=4, activation=activations.ReLU()))\n",
    "mpg.add(layers.Dense(units=1, activation=activations.Linear()))\n",
    "\n",
    "mpg.configure(\n",
    "    input_size=train_x.shape[1],\n",
    "    cost_type=costs.MSE(),\n",
    "    optimizer=optimizers.Adam()\n",
    ")\n",
    "\n",
    "# Train model\n",
    "mpg.train(train_x, train_y, epochs=4, batch_size=32, verbose=True)"
   ]
  },
  {
   "cell_type": "code",
   "execution_count": 6,
   "metadata": {},
   "outputs": [
    {
     "name": "stdout",
     "output_type": "stream",
     "text": [
      "Test MSE loss:  0.032852223087920907\n",
      "\n",
      "Predicted MPG:\n",
      " [17. 15. 17. 16. 16. 14. 13. 13. 13. 15. 15. 15. 15. 16. 22. 20. 19. 20.\n",
      " 24. 24. 22. 22. 22. 23. 20. 11. 12. 12. 11. 25. 25. 23. 19. 18. 18. 19.\n",
      " 18. 14. 13. 14. 14. 12. 13. 12. 19. 22. 19. 19. 22. 26.]\n",
      "Actual MPG:\n",
      " [18. 15. 18. 16. 17. 15. 14. 14. 14. 15. 15. 14. 15. 14. 24. 22. 18. 21.\n",
      " 27. 26. 25. 24. 25. 26. 21. 10. 10. 11.  9. 27. 28. 25. 19. 16. 17. 19.\n",
      " 18. 14. 14. 14. 14. 12. 13. 13. 18. 22. 19. 18. 23. 28.]\n"
     ]
    }
   ],
   "source": [
    "pred = mpg.predict(test_x)\n",
    "loss = costs.MSE().forward(pred, test_y)\n",
    "print('Test MSE loss: ', loss)\n",
    "\n",
    "# Note - because the labels were normalized, model outputs must be adjusted before being used, as so:\n",
    "pred_actual = pred * labels_std + labels_mean\n",
    "\n",
    "print('\\nPredicted MPG:\\n', np.squeeze(np.round(pred_actual.T)))\n",
    "print('Actual MPG:\\n', np.squeeze(test_y.T * labels_std + labels_mean))"
   ]
  }
 ],
 "metadata": {
  "kernelspec": {
   "display_name": "Python 3",
   "language": "python",
   "name": "python3"
  },
  "language_info": {
   "codemirror_mode": {
    "name": "ipython",
    "version": 3
   },
   "file_extension": ".py",
   "mimetype": "text/x-python",
   "name": "python",
   "nbconvert_exporter": "python",
   "pygments_lexer": "ipython3",
   "version": "3.11.3"
  }
 },
 "nbformat": 4,
 "nbformat_minor": 2
}
