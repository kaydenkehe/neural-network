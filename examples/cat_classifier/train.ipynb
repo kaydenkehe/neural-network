{
 "cells": [
  {
   "cell_type": "markdown",
   "metadata": {},
   "source": [
    "## Cat Classifier\n",
    "Determines whether an image contains a cat<br>\n",
    "Dataset taken from Andrew Ng's Coursera course<br>\n",
    "Last update: 12/30/23"
   ]
  },
  {
   "cell_type": "code",
   "execution_count": 1,
   "metadata": {},
   "outputs": [],
   "source": [
    "import cupy as np # Use Cuda\n",
    "from h5py import File\n",
    "from importlib import reload\n",
    "from PIL import Image\n",
    "from sandbox import activations, costs, initializers, layers, model, optimizers, utils"
   ]
  },
  {
   "cell_type": "code",
   "execution_count": 2,
   "metadata": {},
   "outputs": [],
   "source": [
    "# Load data\n",
    "train_dataset = File('dataset\\\\train_catvnoncat.h5', 'r')\n",
    "train_x = np.array(train_dataset['train_set_x'][:]) # Train set features\n",
    "train_y = np.array(train_dataset['train_set_y'][:]) # Train set labels\n",
    "\n",
    "test_dataset = File('dataset\\\\test_catvnoncat.h5', 'r')\n",
    "test_x = np.array(test_dataset['test_set_x'][:]) # Test set features\n",
    "test_y = np.array(test_dataset['test_set_y'][:]) # Test set labels\n",
    "\n",
    "train_y = train_y.reshape((train_y.shape[0], 1))\n",
    "test_y = test_y.reshape((test_y.shape[0], 1))\n",
    "\n",
    "# Flatten and normalize\n",
    "train_x = train_x.reshape(train_x.shape[0], -1) / 255\n",
    "test_x = test_x.reshape(test_x.shape[0], -1) / 255"
   ]
  },
  {
   "cell_type": "code",
   "execution_count": 22,
   "metadata": {},
   "outputs": [
    {
     "name": "stdout",
     "output_type": "stream",
     "text": [
      "Cost on epoch 8: 0.51473\n",
      "Cost on epoch 16: 0.48537\n",
      "Cost on epoch 24: 0.40766\n",
      "Cost on epoch 32: 0.33317\n",
      "Cost on epoch 40: 0.32407\n",
      "Cost on epoch 48: 0.37087\n",
      "Cost on epoch 56: 0.1657\n",
      "Cost on epoch 64: 0.18533\n",
      "Cost on epoch 72: 0.13632\n",
      "Cost on epoch 80: 0.22034\n"
     ]
    }
   ],
   "source": [
    "reload(model)\n",
    "\n",
    "# Create model\n",
    "cat = model.Model(cuda=True)\n",
    "cat.add(layers.Dense(units=20, activation=activations.ReLU()))\n",
    "cat.add(layers.Dense(units=7, activation=activations.ReLU()))\n",
    "cat.add(layers.Dense(units=5, activation=activations.ReLU()))\n",
    "cat.add(layers.Dense(units=1, activation=activations.Sigmoid()))\n",
    "\n",
    "cat.configure(\n",
    "    input_size=train_x.shape[1],\n",
    "    cost_type=costs.BinaryCrossentropy(),\n",
    "    optimizer=optimizers.Adam()\n",
    ")\n",
    "\n",
    "# Train model\n",
    "cat.train(train_x, train_y, epochs=80, batch_size=64, verbose=True)\n",
    "cat.save() # Save model parameters"
   ]
  },
  {
   "cell_type": "code",
   "execution_count": 24,
   "metadata": {},
   "outputs": [
    {
     "name": "stdout",
     "output_type": "stream",
     "text": [
      "+------------+------------+\n",
      "| Layer type | Parameters |\n",
      "+------------+------------+\n",
      "|   Dense    |   245780   |\n",
      "|   Dense    |    147     |\n",
      "|   Dense    |     40     |\n",
      "|   Dense    |     6      |\n",
      "+------------+------------+\n",
      "Total parameters: 245973\n",
      "\n",
      "Training Accuracy: 0.9569377990430622\n",
      "Testing Accuracy: 0.74\n",
      "Image guess: 0\n"
     ]
    }
   ],
   "source": [
    "# Print model summary\n",
    "cat.summary()\n",
    "\n",
    "# Assess model accuracy\n",
    "pred_train = cat.predict(train_x) # Get model accuracy on training data\n",
    "print('\\nTraining Accuracy:', utils.binary_evaluate(pred_train, train_y))\n",
    "pred_test = cat.predict(test_x) # Get model accuracy on testing data\n",
    "print('Testing Accuracy:', utils.binary_evaluate(pred_test, test_y))\n",
    "\n",
    "# Use model on custom image\n",
    "my_image = 'dataset\\\\cat.jpg' \n",
    "num_px = 64\n",
    "\n",
    "image = np.array(Image.open(my_image).resize((num_px, num_px))) / 255 # Resize and normalize image, cast to NumPy array\n",
    "image = image.reshape((1, num_px * num_px * 3)) # Flatten image array\n",
    "my_predicted_image = utils.binary_round(cat.predict(image)) # Predict custom image\n",
    "print(f\"Image guess: {my_predicted_image.item()}\")"
   ]
  }
 ],
 "metadata": {
  "kernelspec": {
   "display_name": "Python 3",
   "language": "python",
   "name": "python3"
  },
  "language_info": {
   "codemirror_mode": {
    "name": "ipython",
    "version": 3
   },
   "file_extension": ".py",
   "mimetype": "text/x-python",
   "name": "python",
   "nbconvert_exporter": "python",
   "pygments_lexer": "ipython3",
   "version": "3.11.3"
  }
 },
 "nbformat": 4,
 "nbformat_minor": 2
}
