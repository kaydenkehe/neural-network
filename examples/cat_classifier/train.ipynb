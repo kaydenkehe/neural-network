{
 "cells": [
  {
   "cell_type": "markdown",
   "metadata": {},
   "source": [
    "## Cat Classifier\n",
    "Determines whether an image contains a cat<br>\n",
    "Dataset taken from Andrew Ng's Coursera course<br>\n",
    "Last update: 12/23/23"
   ]
  },
  {
   "cell_type": "code",
   "execution_count": 1,
   "metadata": {},
   "outputs": [],
   "source": [
    "import cupy as np # Use Cuda\n",
    "from h5py import File\n",
    "from importlib import reload\n",
    "from PIL import Image\n",
    "from sandbox import model, layers, activations, costs, initializers, utils, optimizers"
   ]
  },
  {
   "cell_type": "code",
   "execution_count": 2,
   "metadata": {},
   "outputs": [],
   "source": [
    "# Load data\n",
    "train_dataset = File('dataset\\\\train_catvnoncat.h5', 'r')\n",
    "train_x = np.array(train_dataset['train_set_x'][:]) # Train set features\n",
    "train_y = np.array(train_dataset['train_set_y'][:]) # Train set labels\n",
    "\n",
    "test_dataset = File('dataset\\\\test_catvnoncat.h5', 'r')\n",
    "test_x = np.array(test_dataset['test_set_x'][:]) # Test set features\n",
    "test_y = np.array(test_dataset['test_set_y'][:]) # Test set labels\n",
    "\n",
    "train_y = train_y.reshape((train_y.shape[0], 1))\n",
    "test_y = test_y.reshape((test_y.shape[0], 1))\n",
    "\n",
    "# Flatten and normalize\n",
    "train_x = train_x.reshape(train_x.shape[0], -1) / 255\n",
    "test_x = test_x.reshape(test_x.shape[0], -1) / 255"
   ]
  },
  {
   "cell_type": "code",
   "execution_count": 49,
   "metadata": {},
   "outputs": [
    {
     "name": "stdout",
     "output_type": "stream",
     "text": [
      "Cost on epoch 35: 0.57923\n",
      "Cost on epoch 70: 0.44773\n",
      "Cost on epoch 105: 0.38535\n",
      "Cost on epoch 140: 0.3278\n",
      "Cost on epoch 175: 0.275\n",
      "Cost on epoch 210: 0.22778\n",
      "Cost on epoch 245: 0.18673\n",
      "Cost on epoch 280: 0.15195\n",
      "Cost on epoch 315: 0.12316\n",
      "Cost on epoch 350: 0.09981\n"
     ]
    }
   ],
   "source": [
    "reload(model)\n",
    "np.random.seed(1)\n",
    "\n",
    "cat = model.Model(cuda=True)\n",
    "cat.add(layers.Dense(units=20, activation=activations.ReLU()))\n",
    "cat.add(layers.Dense(units=7, activation=activations.ReLU()))\n",
    "cat.add(layers.Dense(units=5, activation=activations.ReLU()))\n",
    "cat.add(layers.Dense(units=1, activation=activations.Sigmoid()))\n",
    "\n",
    "cat.configure(\n",
    "    input_size=train_x.shape[1],\n",
    "    cost_type=costs.BinaryCrossentropy(),\n",
    "    initializer=initializers.he,\n",
    "    optimizer=optimizers.Adam()\n",
    ")\n",
    "\n",
    "cat.train(train_x, train_y, epochs=350, verbose=True)\n",
    "cat.save() # Save model parameters"
   ]
  },
  {
   "cell_type": "code",
   "execution_count": 50,
   "metadata": {},
   "outputs": [
    {
     "name": "stdout",
     "output_type": "stream",
     "text": [
      "+------------+------------+\n",
      "| Layer type | Parameters |\n",
      "+------------+------------+\n",
      "|   Dense    |   245780   |\n",
      "|   Dense    |    147     |\n",
      "|   Dense    |     40     |\n",
      "|   Dense    |     6      |\n",
      "+------------+------------+\n",
      "Total parameters: 245973\n",
      "\n",
      "Training Accuracy: 0.99043\n",
      "Testing Accuracy: 0.74\n",
      "Image guess: 0\n"
     ]
    }
   ],
   "source": [
    "# Print model summary\n",
    "cat.summary()\n",
    "\n",
    "# Assess model accuracy\n",
    "pred_train = utils.binary_round(cat.predict(train_x)) # Get model accuracy on training data\n",
    "print('\\nTraining Accuracy: '  + str(np.round(np.sum((pred_train == train_y)/train_x.shape[0]), decimals=5)))\n",
    "pred_test = utils.binary_round(cat.predict(test_x)) # Get model accuracy on testing data\n",
    "print('Testing Accuracy: '  + str(np.round(np.sum((pred_test == test_y)/test_x.shape[0]), decimals=5)))\n",
    "\n",
    "# Use model on custom image\n",
    "my_image = 'dataset\\\\cat.jpg' \n",
    "num_px = 64\n",
    "\n",
    "image = np.array(Image.open(my_image).resize((num_px, num_px))) / 255 # Resize and normalize image, cast to NumPy array\n",
    "image = image.reshape((1, num_px * num_px * 3)) # Flatten image array\n",
    "my_predicted_image = utils.binary_round(cat.predict(image)) # Predict custom image\n",
    "print(f\"Image guess: {my_predicted_image.item()}\")"
   ]
  }
 ],
 "metadata": {
  "kernelspec": {
   "display_name": "Python 3",
   "language": "python",
   "name": "python3"
  },
  "language_info": {
   "codemirror_mode": {
    "name": "ipython",
    "version": 3
   },
   "file_extension": ".py",
   "mimetype": "text/x-python",
   "name": "python",
   "nbconvert_exporter": "python",
   "pygments_lexer": "ipython3",
   "version": "3.11.3"
  }
 },
 "nbformat": 4,
 "nbformat_minor": 2
}
