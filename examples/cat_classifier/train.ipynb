{
 "cells": [
  {
   "cell_type": "markdown",
   "metadata": {},
   "source": [
    "## Cat Classifier\n",
    "Determines whether an image contains a cat<br>\n",
    "Dataset taken from Andrew Ng's Coursera course"
   ]
  },
  {
   "cell_type": "code",
   "execution_count": 5,
   "metadata": {},
   "outputs": [],
   "source": [
    "import cupy as np # Use Cuda\n",
    "from h5py import File\n",
    "from importlib import reload\n",
    "from PIL import Image\n",
    "from sandbox import model, layers, activations, costs, utils"
   ]
  },
  {
   "cell_type": "code",
   "execution_count": 19,
   "metadata": {},
   "outputs": [],
   "source": [
    "# Load data\n",
    "train_dataset = File('dataset\\\\train_catvnoncat.h5', 'r')\n",
    "train_x = np.array(train_dataset['train_set_x'][:]) # Train set features\n",
    "train_y = np.array(train_dataset['train_set_y'][:]) # Train set labels\n",
    "\n",
    "test_dataset = File('dataset\\\\test_catvnoncat.h5', 'r')\n",
    "test_x = np.array(test_dataset['test_set_x'][:]) # Test set features\n",
    "test_y = np.array(test_dataset['test_set_y'][:]) # Test set labels\n",
    "\n",
    "train_y = train_y.reshape((train_y.shape[0], 1))\n",
    "test_y = test_y.reshape((test_y.shape[0], 1))\n",
    "\n",
    "# Flatten and normalize\n",
    "train_x = train_x.reshape(train_x.shape[0], -1) / 255\n",
    "test_x = test_x.reshape(test_x.shape[0], -1) / 255"
   ]
  },
  {
   "cell_type": "code",
   "execution_count": 16,
   "metadata": {},
   "outputs": [
    {
     "name": "stdout",
     "output_type": "stream",
     "text": [
      "Cost on epoch 0: 0.66251\n",
      "Cost on epoch 100: 0.50727\n",
      "Cost on epoch 200: 0.48794\n",
      "Cost on epoch 300: 0.26004\n",
      "Cost on epoch 400: 0.18716\n",
      "Cost on epoch 500: 0.17301\n",
      "Cost on epoch 600: 0.07039\n",
      "Cost on epoch 700: 0.05136\n"
     ]
    }
   ],
   "source": [
    "reload(model)\n",
    "np.random.seed(1)\n",
    "\n",
    "cat = model.Model(cuda=True)\n",
    "cat.add(layers.Dense(units=20, activation=activations.ReLU()))\n",
    "cat.add(layers.Dense(units=7, activation=activations.ReLU()))\n",
    "cat.add(layers.Dense(units=5, activation=activations.ReLU()))\n",
    "cat.add(layers.Dense(units=1, activation=activations.Sigmoid()))\n",
    "\n",
    "cat.configure(learning_rate=0.0075, epochs=700, cost_type=costs.BinaryCrossentropy())\n",
    "cat.train(train_x, train_y, verbose=True)\n",
    "cat.save() # Save model parameters"
   ]
  },
  {
   "cell_type": "code",
   "execution_count": 20,
   "metadata": {},
   "outputs": [
    {
     "name": "stdout",
     "output_type": "stream",
     "text": [
      "Training Accuracy: 0.99043\n",
      "Testing Accuracy: 0.72\n",
      "Image guess: 1\n"
     ]
    }
   ],
   "source": [
    "# Assess model accuracy\n",
    "pred_train = cat.predict(train_x, prediction_type=utils.Predictions.binary_classification) # Get model accuracy on training data\n",
    "print('Training Accuracy: '  + str(np.round(np.sum((pred_train == train_y)/train_x.shape[0]), decimals=5)))\n",
    "pred_test = cat.predict(test_x, prediction_type=utils.Predictions.binary_classification) # Get model accuracy on testing data\n",
    "print('Testing Accuracy: '  + str(np.round(np.sum((pred_test == test_y)/test_x.shape[0]), decimals=5)))\n",
    "\n",
    "# Use model on custom image\n",
    "my_image = 'dataset\\\\cat.jpg' \n",
    "num_px = 64\n",
    "\n",
    "image = np.array(Image.open(my_image).resize((num_px, num_px))) / 255 # Resize and normalize image, cast to NumPy array\n",
    "image = image.reshape((1, num_px * num_px * 3)) # Flatten image array\n",
    "my_predicted_image = cat.predict(image, prediction_type=utils.Predictions.binary_classification) # Predict custom image\n",
    "print(f\"Image guess: {my_predicted_image.item()}\")"
   ]
  }
 ],
 "metadata": {
  "kernelspec": {
   "display_name": "Python 3",
   "language": "python",
   "name": "python3"
  },
  "language_info": {
   "codemirror_mode": {
    "name": "ipython",
    "version": 3
   },
   "file_extension": ".py",
   "mimetype": "text/x-python",
   "name": "python",
   "nbconvert_exporter": "python",
   "pygments_lexer": "ipython3",
   "version": "3.11.3"
  }
 },
 "nbformat": 4,
 "nbformat_minor": 2
}
