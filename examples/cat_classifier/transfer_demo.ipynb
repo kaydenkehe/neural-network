{
 "cells": [
  {
   "cell_type": "code",
   "execution_count": 1,
   "metadata": {},
   "outputs": [],
   "source": [
    "import cupy as np # Use Cuda\n",
    "from h5py import File\n",
    "from sandbox import model, layers, activations, utils"
   ]
  },
  {
   "cell_type": "code",
   "execution_count": 2,
   "metadata": {},
   "outputs": [],
   "source": [
    "# Load test data\n",
    "test_dataset = File('dataset\\\\test_catvnoncat.h5', 'r')\n",
    "test_x = np.array(test_dataset['test_set_x'][:]) # Test set features\n",
    "test_y = np.array(test_dataset['test_set_y'][:]) # Test set labels\n",
    "test_y = test_y.reshape((test_y.shape[0], 1))\n",
    "test_x = test_x.reshape(test_x.shape[0], -1) / 255"
   ]
  },
  {
   "cell_type": "code",
   "execution_count": 4,
   "metadata": {},
   "outputs": [
    {
     "name": "stdout",
     "output_type": "stream",
     "text": [
      "Testing Accuracy: 0.7\n"
     ]
    },
    {
     "ename": "",
     "evalue": "",
     "output_type": "error",
     "traceback": [
      "\u001b[1;31mThe Kernel crashed while executing code in the the current cell or a previous cell. Please review the code in the cell(s) to identify a possible cause of the failure. Click <a href='https://aka.ms/vscodeJupyterKernelCrash'>here</a> for more info. View Jupyter <a href='command:jupyter.viewOutput'>log</a> for further details."
     ]
    }
   ],
   "source": [
    "# Create model\n",
    "cat = model.Model(cuda=True)\n",
    "cat.add(layers.Dense(units=20, activation=activations.ReLU()))\n",
    "cat.add(layers.Dense(units=7, activation=activations.ReLU()))\n",
    "cat.add(layers.Dense(units=5, activation=activations.ReLU()))\n",
    "cat.add(layers.Dense(units=1, activation=activations.Sigmoid()))\n",
    "\n",
    "# Load pre-trained parameters\n",
    "cat.load('parameters.json')\n",
    "\n",
    "# Evaluate model\n",
    "pred_test = cat.predict(test_x, prediction_type=utils.Predictions.binary_classification) # Get model accuracy on testing data\n",
    "print('Testing Accuracy: '  + str(np.sum((pred_test == test_y)/test_x.shape[0])))"
   ]
  }
 ],
 "metadata": {
  "kernelspec": {
   "display_name": "Python 3",
   "language": "python",
   "name": "python3"
  },
  "language_info": {
   "codemirror_mode": {
    "name": "ipython",
    "version": 3
   },
   "file_extension": ".py",
   "mimetype": "text/x-python",
   "name": "python",
   "nbconvert_exporter": "python",
   "pygments_lexer": "ipython3",
   "version": "3.11.3"
  }
 },
 "nbformat": 4,
 "nbformat_minor": 2
}
