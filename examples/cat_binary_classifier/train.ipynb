{
 "cells": [
  {
   "cell_type": "code",
   "execution_count": 1,
   "metadata": {},
   "outputs": [],
   "source": [
    "import cupy as np # Use Cuda\n",
    "from h5py import File\n",
    "from PIL import Image\n",
    "from sandbox import model, layers, activations, costs, predictions\n",
    "\n",
    "np.random.seed(1)"
   ]
  },
  {
   "cell_type": "code",
   "execution_count": 2,
   "metadata": {},
   "outputs": [],
   "source": [
    "# Load data\n",
    "train_dataset = File('dataset\\\\train_catvnoncat.h5', 'r')\n",
    "train_x = np.array(train_dataset['train_set_x'][:]) # Train set features\n",
    "train_y = np.array(train_dataset['train_set_y'][:]) # Train set labels\n",
    "\n",
    "test_dataset = File('dataset\\\\test_catvnoncat.h5', 'r')\n",
    "test_x = np.array(test_dataset['test_set_x'][:]) # Test set features\n",
    "test_y = np.array(test_dataset['test_set_y'][:]) # Test set labels\n",
    "\n",
    "train_y = train_y.reshape((train_y.shape[0], 1))\n",
    "test_y = test_y.reshape((test_y.shape[0], 1))\n",
    "\n",
    "# Flatten and normalize\n",
    "train_x = train_x.reshape(train_x.shape[0], -1) / 255\n",
    "test_x = test_x.reshape(test_x.shape[0], -1) / 255"
   ]
  },
  {
   "cell_type": "code",
   "execution_count": 3,
   "metadata": {},
   "outputs": [
    {
     "name": "stdout",
     "output_type": "stream",
     "text": [
      "Cost on epoch 0: 0.68323\n",
      "Cost on epoch 100: 0.58975\n",
      "Cost on epoch 200: 0.50356\n",
      "Cost on epoch 300: 0.48155\n",
      "Cost on epoch 400: 0.42944\n",
      "Cost on epoch 500: 0.39015\n",
      "Cost on epoch 600: 0.33552\n",
      "Cost on epoch 700: 0.30419\n",
      "Cost on epoch 800: 0.49685\n",
      "Cost on epoch 900: 0.41558\n",
      "Cost on epoch 1000: 0.08405\n",
      "Cost on epoch 1100: 0.05911\n",
      "Cost on epoch 1200: 0.04401\n",
      "Cost on epoch 1300: 0.03469\n",
      "Cost on epoch 1400: 0.02821\n",
      "Cost on epoch 1500: 0.02377\n"
     ]
    }
   ],
   "source": [
    "cat = model.Model(cuda=True)\n",
    "cat.add(layers.Dense(units=20, activation=activations.ReLU()))\n",
    "cat.add(layers.Dense(units=7, activation=activations.ReLU()))\n",
    "cat.add(layers.Dense(units=5, activation=activations.ReLU()))\n",
    "cat.add(layers.Dense(units=1, activation=activations.Sigmoid()))\n",
    "\n",
    "cat.configure(learning_rate=0.0075, epochs=1500, cost_type=costs.BinaryCrossentropy())\n",
    "cat.train(train_x, train_y, verbose=True)\n",
    "cat.save() # Save model parameters"
   ]
  },
  {
   "cell_type": "code",
   "execution_count": 6,
   "metadata": {},
   "outputs": [
    {
     "name": "stdout",
     "output_type": "stream",
     "text": [
      "\n",
      "Training Accuracy: 0.99043\n",
      "Testing Accuracy: 0.7\n",
      "Image guess: 0\n"
     ]
    }
   ],
   "source": [
    "# Assess model accuracy\n",
    "pred_train = cat.predict(train_x, prediction_type=predictions.binary_classification) # Get model accuracy on training data\n",
    "print('\\nTraining Accuracy: '  + str(np.round(np.sum((pred_train == train_y)/train_x.shape[0]), decimals=5)))\n",
    "pred_test = cat.predict(test_x, prediction_type=predictions.binary_classification) # Get model accuracy on testing data\n",
    "print('Testing Accuracy: '  + str(np.round(np.sum((pred_test == test_y)/test_x.shape[0]), decimals=5)))\n",
    "\n",
    "# Use model on custom image\n",
    "my_image = 'dataset\\\\not_cat.jpg' \n",
    "num_px = 64\n",
    "\n",
    "image = np.array(Image.open(my_image).resize((num_px, num_px))) / 255 # Resize and normalize image, cast to NumPy array\n",
    "image = image.reshape((1, num_px * num_px * 3)) # Flatten image array\n",
    "my_predicted_image = cat.predict(image, prediction_type=predictions.binary_classification) # Predict custom image\n",
    "print(f\"Image guess: {my_predicted_image.item()}\")"
   ]
  }
 ],
 "metadata": {
  "kernelspec": {
   "display_name": "Python 3",
   "language": "python",
   "name": "python3"
  },
  "language_info": {
   "codemirror_mode": {
    "name": "ipython",
    "version": 3
   },
   "file_extension": ".py",
   "mimetype": "text/x-python",
   "name": "python",
   "nbconvert_exporter": "python",
   "pygments_lexer": "ipython3",
   "version": "3.11.3"
  }
 },
 "nbformat": 4,
 "nbformat_minor": 2
}
