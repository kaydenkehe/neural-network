{
 "cells": [
  {
   "cell_type": "markdown",
   "metadata": {},
   "source": [
    "## MNIST Classifier\n",
    "\n",
    "Classifies handwritten digits (0-9)<br>\n",
    "Last update: 1/1/24"
   ]
  },
  {
   "cell_type": "code",
   "execution_count": 3,
   "metadata": {},
   "outputs": [],
   "source": [
    "import cupy as np\n",
    "from importlib import reload\n",
    "from keras.datasets import mnist\n",
    "from PIL import Image\n",
    "from sandbox import activations, costs, initializers, layers, model, optimizers, utils"
   ]
  },
  {
   "cell_type": "code",
   "execution_count": 4,
   "metadata": {},
   "outputs": [],
   "source": [
    "# Inform utils that we're using CuPy instead of NumPy\n",
    "utils.configure_imports(cuda=True)\n",
    "\n",
    "# Load data\n",
    "(train_x, train_y), (test_x, test_y) = mnist.load_data()\n",
    "\n",
    "# Flatten, normalize, and reshape data for model\n",
    "train_x = np.asarray(train_x.reshape(train_x.shape[0], -1) / 255)\n",
    "test_x = np.asarray(test_x.reshape(test_x.shape[0], -1) / 255)\n",
    "train_y = utils.one_hot(train_y, num_classes=10)\n",
    "test_y = utils.one_hot(test_y, num_classes=10)"
   ]
  },
  {
   "cell_type": "code",
   "execution_count": 5,
   "metadata": {},
   "outputs": [
    {
     "name": "stdout",
     "output_type": "stream",
     "text": [
      "Cost on epoch 1: 0.1551\n",
      "Cost on epoch 2: 0.0828\n",
      "Cost on epoch 3: 0.11734\n"
     ]
    }
   ],
   "source": [
    "# Create model\n",
    "digits = model.Model(cuda=True)\n",
    "digits.add(layers.Dense(units=32, activation=activations.ReLU()))\n",
    "digits.add(layers.Dense(units=16, activation=activations.ReLU()))\n",
    "digits.add(layers.Dense(units=train_y.shape[1], activation=activations.Softmax()))\n",
    "\n",
    "# Configure model\n",
    "digits.configure(\n",
    "    input_size=train_x.shape[1],\n",
    "    optimizer=optimizers.Adam(),\n",
    "    cost_type=costs.CategoricalCrossentropy(),\n",
    ")\n",
    "\n",
    "digits.train(train_x, train_y, epochs=3, batch_size=64, verbose=True)"
   ]
  },
  {
   "cell_type": "code",
   "execution_count": 6,
   "metadata": {},
   "outputs": [
    {
     "name": "stdout",
     "output_type": "stream",
     "text": [
      "+------------+------------+\n",
      "| Layer type | Parameters |\n",
      "+------------+------------+\n",
      "|   Dense    |   25120    |\n",
      "|   Dense    |    528     |\n",
      "|   Dense    |    170     |\n",
      "+------------+------------+\n",
      "Total parameters: 25818\n",
      "\n",
      "Training Accuracy: 0.9658833333333333\n",
      "Testing Accuracy: 0.957\n",
      "Custom Image Prediction: 7\n"
     ]
    }
   ],
   "source": [
    "reload(utils)\n",
    "\n",
    "# Print model summary\n",
    "digits.summary()\n",
    "\n",
    "# Assess model accuracy\n",
    "pred_train = digits.predict(train_x)\n",
    "print('\\nTraining Accuracy:', utils.evaluate(pred_train, train_y))\n",
    "pred_test = digits.predict(test_x)\n",
    "print('Testing Accuracy:', utils.evaluate(pred_test, test_y))\n",
    "\n",
    "# Use model on custom image\n",
    "seven = Image.open('seven.png').convert('L')\n",
    "seven = np.array(seven).reshape(1, -1) / 255\n",
    "pred_seven = digits.predict(seven)\n",
    "print('Custom Image Prediction:', np.argmax(pred_seven))"
   ]
  }
 ],
 "metadata": {
  "kernelspec": {
   "display_name": "Python 3",
   "language": "python",
   "name": "python3"
  },
  "language_info": {
   "codemirror_mode": {
    "name": "ipython",
    "version": 3
   },
   "file_extension": ".py",
   "mimetype": "text/x-python",
   "name": "python",
   "nbconvert_exporter": "python",
   "pygments_lexer": "ipython3",
   "version": "3.11.3"
  }
 },
 "nbformat": 4,
 "nbformat_minor": 2
}
