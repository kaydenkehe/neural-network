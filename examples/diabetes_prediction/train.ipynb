{
 "cells": [
  {
   "cell_type": "markdown",
   "metadata": {},
   "source": [
    "## Diabetes Progression\n",
    "\n",
    "Predicts diabetes progression<br>\n",
    "Last update: 1/1/24"
   ]
  },
  {
   "cell_type": "code",
   "execution_count": 176,
   "metadata": {},
   "outputs": [],
   "source": [
    "import numpy as np\n",
    "from sandbox import activations, costs, initializers, layers, model, optimizers, utils\n",
    "from sklearn import datasets"
   ]
  },
  {
   "cell_type": "code",
   "execution_count": 178,
   "metadata": {},
   "outputs": [],
   "source": [
    "# Load iris dataset\n",
    "dataset = datasets.load_diabetes()\n",
    "x = np.asarray(dataset.data)\n",
    "y = np.asarray(dataset.target).reshape(-1, 1)\n",
    "\n",
    "# Normalize, shuffle, and split data\n",
    "mean_x = np.mean(x, axis=0)\n",
    "std_x = np.std(x, axis=0)\n",
    "x = (x - mean_x) / std_x\n",
    "\n",
    "mean_y = np.mean(y, axis=0)\n",
    "std_y = np.std(y, axis=0)\n",
    "y = (y - mean_y) / std_y\n",
    "\n",
    "x, y = utils.shuffle(x, y)\n",
    "(train_x, train_y), (test_x, test_y) = utils.train_test_split(x, y, test_size=0.2)"
   ]
  },
  {
   "cell_type": "code",
   "execution_count": 200,
   "metadata": {},
   "outputs": [
    {
     "name": "stdout",
     "output_type": "stream",
     "text": [
      "Cost on epoch 10: 0.44136\n",
      "Cost on epoch 20: 0.38863\n",
      "Cost on epoch 30: 0.40184\n",
      "Cost on epoch 40: 0.27668\n",
      "Cost on epoch 50: 0.37374\n",
      "Cost on epoch 60: 0.31526\n",
      "Cost on epoch 70: 0.35531\n",
      "Cost on epoch 80: 0.26697\n",
      "Cost on epoch 90: 0.20937\n",
      "Cost on epoch 100: 0.25532\n"
     ]
    }
   ],
   "source": [
    "# Create model\n",
    "diabetes = model.Model()\n",
    "diabetes.add(layers.Dense(units=12, activation=activations.ReLU()))\n",
    "diabetes.add(layers.Dense(units=12, activation=activations.ReLU()))\n",
    "diabetes.add(layers.Dense(units=1, activation=activations.Linear()))\n",
    "\n",
    "diabetes.configure(\n",
    "    input_size=train_x.shape[1],\n",
    "    cost_type=costs.MSE(),\n",
    "    optimizer=optimizers.Adam()\n",
    ")\n",
    "\n",
    "# Train model\n",
    "diabetes.train(train_x, train_y, learning_rate=0.005, epochs=100, batch_size=64, verbose=True)"
   ]
  },
  {
   "cell_type": "code",
   "execution_count": 201,
   "metadata": {},
   "outputs": [
    {
     "name": "stdout",
     "output_type": "stream",
     "text": [
      "Test MSE loss:  0.6618107755526453\n",
      "\n",
      "Predicted:\n",
      " [181.  64. 180.  86. 110. 113. 104.  88. 184. 267. 172. 211.  95.  85.\n",
      " 196. 149.  98. 154. 189. 222. 248. 212. 138. 118. 149.  97.  82.  56.\n",
      "  82. 214.  77.  85. 151. 240.  78. 227. 151. 144. 100. 118.  80.  83.\n",
      " 199. 198. 243.  79.  70.  91. 103. 230. 225. 146. 243. 108. 160. 187.\n",
      " 181. 112. 116. 109. 169.  96. 266. 102. 310. 300.  68. 131.  89.  76.\n",
      " 178. 134. 215.  76.  89. 278. 151. 172. 140. 226. 244.  91. 243. 259.\n",
      "  98.  62. 145. 149.  88.]\n",
      "Actual:\n",
      " [115. 181. 131.  53. 161.  83.  75.  72. 233. 252. 134. 173.  60.  93.\n",
      " 109. 229. 170.  84. 180. 197. 221. 156. 241. 113. 172. 163.  77.  89.\n",
      "  87. 296.  53.  71.  92. 233. 179. 110. 174. 109.  51. 144.  48. 201.\n",
      " 164. 124. 268. 127. 135.  94. 160. 281. 265. 249. 303.  44. 131. 261.\n",
      "  90.  80.  70. 181.  63.  63. 277. 187. 308. 243. 199.  92.  65.  60.\n",
      "  91. 259. 258. 135.  90. 274.  85. 217.  68. 346. 163.  97.  84. 206.\n",
      "  85. 116.  52.  55.  48.]\n"
     ]
    }
   ],
   "source": [
    "# Get model prediction and loss on test data\n",
    "pred = diabetes.predict(test_x)\n",
    "loss = costs.MSE().forward(pred, test_y)\n",
    "print('Test MSE loss: ', loss)\n",
    "\n",
    "# Note - because the labels were normalized, model outputs must be adjusted before being used, as so:\n",
    "pred_actual = pred * std_y + mean_y\n",
    "\n",
    "print('\\nPredicted:\\n', np.squeeze(np.round(pred_actual.T)))\n",
    "print('Actual:\\n', np.squeeze(test_y.T * std_y + mean_y))"
   ]
  }
 ],
 "metadata": {
  "kernelspec": {
   "display_name": "Python 3",
   "language": "python",
   "name": "python3"
  },
  "language_info": {
   "codemirror_mode": {
    "name": "ipython",
    "version": 3
   },
   "file_extension": ".py",
   "mimetype": "text/x-python",
   "name": "python",
   "nbconvert_exporter": "python",
   "pygments_lexer": "ipython3",
   "version": "3.11.3"
  }
 },
 "nbformat": 4,
 "nbformat_minor": 2
}
