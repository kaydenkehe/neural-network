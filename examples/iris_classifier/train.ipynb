{
 "cells": [
  {
   "cell_type": "markdown",
   "metadata": {},
   "source": [
    "## Iris Classifier\n",
    "\n",
    "Classifies type of flower based on sepal and petal dimensions<br>\n",
    "Last update: 1/1/24"
   ]
  },
  {
   "cell_type": "code",
   "execution_count": 1,
   "metadata": {},
   "outputs": [],
   "source": [
    "import numpy as np\n",
    "from sandbox import activations, costs, initializers, layers, model, optimizers, utils\n",
    "from sklearn import datasets"
   ]
  },
  {
   "cell_type": "code",
   "execution_count": 2,
   "metadata": {},
   "outputs": [],
   "source": [
    "# Load iris dataset\n",
    "num_classes = 3\n",
    "iris = datasets.load_iris()\n",
    "x = np.asarray(iris.data)\n",
    "y = np.asarray(iris.target).reshape(-1, 1)\n",
    "\n",
    "# Normalize, one-hot encode, shuffle, and split data\n",
    "mean_x = np.mean(x, axis=0)\n",
    "std_x = np.std(x, axis=0)\n",
    "x = (x - mean_x) / std_x\n",
    "y = utils.one_hot(y, num_classes)\n",
    "x, y = utils.shuffle(x, y)\n",
    "(train_x, train_y), (test_x, test_y) = utils.train_test_split(x, y, test_size=0.2)"
   ]
  },
  {
   "cell_type": "code",
   "execution_count": 5,
   "metadata": {},
   "outputs": [
    {
     "name": "stdout",
     "output_type": "stream",
     "text": [
      "Cost on epoch 4: 1.0403\n",
      "Cost on epoch 8: 0.58354\n",
      "Cost on epoch 12: 0.58809\n",
      "Cost on epoch 16: 0.7235\n",
      "Cost on epoch 20: 0.58126\n",
      "Cost on epoch 24: 0.6659\n",
      "Cost on epoch 28: 0.60883\n",
      "Cost on epoch 32: 0.2415\n",
      "Cost on epoch 36: 0.26146\n",
      "Cost on epoch 40: 0.2242\n"
     ]
    }
   ],
   "source": [
    "# Create model\n",
    "flowers = model.Model()\n",
    "flowers.add(layers.Dense(units=8, activation=activations.ReLU()))\n",
    "flowers.add(layers.Dense(units=4, activation=activations.ReLU()))\n",
    "flowers.add(layers.Dense(units=num_classes, activation=activations.Softmax()))\n",
    "\n",
    "# Configure model\n",
    "flowers.configure(\n",
    "    input_size=train_x.shape[1],\n",
    "    optimizer=optimizers.Adam(),\n",
    "    cost_type=costs.CategoricalCrossentropy(),\n",
    ")\n",
    "\n",
    "flowers.train(train_x, train_y, epochs=40, batch_size=8, verbose=True)"
   ]
  },
  {
   "cell_type": "code",
   "execution_count": 6,
   "metadata": {},
   "outputs": [
    {
     "name": "stdout",
     "output_type": "stream",
     "text": [
      "+------------+------------+\n",
      "| Layer type | Parameters |\n",
      "+------------+------------+\n",
      "|   Dense    |     40     |\n",
      "|   Dense    |     36     |\n",
      "|   Dense    |     15     |\n",
      "+------------+------------+\n",
      "Total parameters: 91\n",
      "\n",
      "Training accuracy: 0.9666666666666667\n",
      "Testing accuracy: 0.9666666666666667\n"
     ]
    }
   ],
   "source": [
    "# Print model summary\n",
    "flowers.summary()\n",
    "\n",
    "# Evaluate model\n",
    "pred_train = flowers.predict(train_x)\n",
    "print('\\nTraining accuracy:', utils.evaluate(pred_train, train_y))\n",
    "pred_test = flowers.predict(test_x)\n",
    "print('Testing accuracy:', utils.evaluate(pred_test, test_y))"
   ]
  }
 ],
 "metadata": {
  "kernelspec": {
   "display_name": "Python 3",
   "language": "python",
   "name": "python3"
  },
  "language_info": {
   "codemirror_mode": {
    "name": "ipython",
    "version": 3
   },
   "file_extension": ".py",
   "mimetype": "text/x-python",
   "name": "python",
   "nbconvert_exporter": "python",
   "pygments_lexer": "ipython3",
   "version": "3.11.3"
  }
 },
 "nbformat": 4,
 "nbformat_minor": 2
}
