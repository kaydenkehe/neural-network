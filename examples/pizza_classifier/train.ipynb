{
 "cells": [
  {
   "cell_type": "markdown",
   "metadata": {},
   "source": [
    "## Pizza Classifier\n",
    "Determines whether an image contains a pizza<br>\n",
    "Created for CS50<br>\n",
    "Dataset: https://www.kaggle.com/datasets/carlosrunner/pizza-not-pizza<br>\n",
    "Last update: 12/24/23"
   ]
  },
  {
   "cell_type": "code",
   "execution_count": 1,
   "metadata": {},
   "outputs": [],
   "source": [
    "import cv2\n",
    "import cupy as np\n",
    "from importlib import reload\n",
    "from os import listdir\n",
    "from sandbox import activations, costs, initializers, layers, model, optimizers, utils"
   ]
  },
  {
   "cell_type": "code",
   "execution_count": 2,
   "metadata": {},
   "outputs": [],
   "source": [
    "# Load altered pizza dataset\n",
    "dataset_path = 'dataset\\\\altered\\\\'\n",
    "datasets = [\n",
    "    np.array([\n",
    "        cv2.imread(dataset_path + dir + img).flatten()\n",
    "        for img in listdir(dataset_path + dir)\n",
    "    ])\n",
    "    for dir in ['train\\\\pizza\\\\', 'train\\\\not_pizza\\\\', 'test\\\\pizza\\\\', 'test\\\\not_pizza\\\\']\n",
    "]\n",
    "\n",
    "# Create training and testing data\n",
    "train_x = np.concatenate((datasets[0], datasets[1]), axis=0) / 255\n",
    "train_y = np.concatenate((np.ones((datasets[0].shape[0], 1)), np.zeros((datasets[1].shape[0], 1))), axis=0)\n",
    "\n",
    "test_x = np.concatenate((datasets[2], datasets[3]), axis=0) / 255\n",
    "test_y = np.concatenate((np.ones((datasets[2].shape[0], 1)), np.zeros((datasets[3].shape[0], 1))), axis=0)"
   ]
  },
  {
   "cell_type": "code",
   "execution_count": 6,
   "metadata": {},
   "outputs": [
    {
     "name": "stdout",
     "output_type": "stream",
     "text": [
      "Cost on epoch 8: 0.59437\n",
      "Cost on epoch 16: 0.63419\n",
      "Cost on epoch 24: 0.68564\n",
      "Cost on epoch 32: 0.58033\n",
      "Cost on epoch 40: 0.56747\n",
      "Cost on epoch 48: 0.45277\n",
      "Cost on epoch 56: 0.50459\n",
      "Cost on epoch 64: 0.57583\n",
      "Cost on epoch 72: 0.52163\n",
      "Cost on epoch 80: 0.37718\n"
     ]
    }
   ],
   "source": [
    "reload(model)\n",
    "\n",
    "# Create model\n",
    "pizza = model.Model(cuda=True)\n",
    "pizza.add(layers.Dense(units=32, activation=activations.ReLU()))\n",
    "pizza.add(layers.Dense(units=16, activation=activations.ReLU()))\n",
    "pizza.add(layers.Dense(units=8, activation=activations.ReLU()))\n",
    "pizza.add(layers.Dense(units=1, activation=activations.Sigmoid()))\n",
    "\n",
    "pizza.configure(\n",
    "    input_size=train_x.shape[1],\n",
    "    cost_type=costs.BinaryCrossentropy(),\n",
    "    optimizer=optimizers.Adam()\n",
    ")\n",
    "\n",
    "# Train model\n",
    "pizza.train(train_x, train_y, epochs=100, batch_size=32, verbose=True)"
   ]
  },
  {
   "cell_type": "code",
   "execution_count": 38,
   "metadata": {},
   "outputs": [
    {
     "name": "stdout",
     "output_type": "stream",
     "text": [
      "+------------+------------+\n",
      "| Layer type | Parameters |\n",
      "+------------+------------+\n",
      "|   Dense    |   393248   |\n",
      "|   Dense    |    528     |\n",
      "|   Dense    |    136     |\n",
      "|   Dense    |     9      |\n",
      "+------------+------------+\n",
      "Total parameters: 393921\n",
      "\n",
      "Training Accuracy: 0.79172\n",
      "Testing Accuracy: 0.68805\n"
     ]
    }
   ],
   "source": [
    "# Print model summary\n",
    "pizza.summary()\n",
    "\n",
    "# Assess model accuracy\n",
    "pred_train = pizza.predict(train_x) # Get model accuracy on training data\n",
    "print('\\nTraining Accuracy:', utils.binary_evaluate(pred_train, train_y))\n",
    "pred_test = pizza.predict(test_x) # Get model accuracy on testing data\n",
    "print('Testing Accuracy:', utils.binary_evaluate(pred_test, test_y))"
   ]
  }
 ],
 "metadata": {
  "kernelspec": {
   "display_name": "Python 3",
   "language": "python",
   "name": "python3"
  },
  "language_info": {
   "codemirror_mode": {
    "name": "ipython",
    "version": 3
   },
   "file_extension": ".py",
   "mimetype": "text/x-python",
   "name": "python",
   "nbconvert_exporter": "python",
   "pygments_lexer": "ipython3",
   "version": "3.11.3"
  }
 },
 "nbformat": 4,
 "nbformat_minor": 2
}
