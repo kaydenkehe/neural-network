{
 "cells": [
  {
   "cell_type": "markdown",
   "metadata": {},
   "source": [
    "## Pizza Classifier\n",
    "Determines whether an image contains a pizza<br>\n",
    "Created for CS50<br>\n",
    "Dataset: https://www.kaggle.com/datasets/carlosrunner/pizza-not-pizza"
   ]
  },
  {
   "cell_type": "code",
   "execution_count": 1,
   "metadata": {},
   "outputs": [],
   "source": [
    "import cv2\n",
    "import cupy as np\n",
    "from importlib import reload\n",
    "from os import listdir\n",
    "from sandbox import model, layers, activations, costs, utils"
   ]
  },
  {
   "cell_type": "code",
   "execution_count": 2,
   "metadata": {},
   "outputs": [],
   "source": [
    "# Load altered pizza dataset\n",
    "dataset_path = 'dataset\\\\altered\\\\'\n",
    "datasets = [\n",
    "    np.array([\n",
    "        cv2.imread(dataset_path + dir + img).flatten()\n",
    "        for img in listdir(dataset_path + dir)\n",
    "    ])\n",
    "    for dir in ['train\\\\pizza\\\\', 'train\\\\not_pizza\\\\', 'test\\\\pizza\\\\', 'test\\\\not_pizza\\\\']\n",
    "]\n",
    "\n",
    "# Create training and testing data\n",
    "train_x = np.concatenate((datasets[0], datasets[1]), axis=0) / 255\n",
    "train_y = np.concatenate((np.ones((datasets[0].shape[0], 1)), np.zeros((datasets[1].shape[0], 1))), axis=0)\n",
    "\n",
    "test_x = np.concatenate((datasets[2], datasets[3]), axis=0) / 255\n",
    "test_y = np.concatenate((np.ones((datasets[2].shape[0], 1)), np.zeros((datasets[3].shape[0], 1))), axis=0)"
   ]
  },
  {
   "cell_type": "code",
   "execution_count": 15,
   "metadata": {},
   "outputs": [
    {
     "name": "stdout",
     "output_type": "stream",
     "text": [
      "Cost on epoch 0: 0.69364\n",
      "Cost on epoch 100: 0.67845\n",
      "Cost on epoch 200: 0.62467\n",
      "Cost on epoch 300: 0.60759\n",
      "Cost on epoch 400: 0.59527\n",
      "Cost on epoch 500: 0.58711\n",
      "Cost on epoch 600: 0.57928\n",
      "Cost on epoch 700: 0.57113\n",
      "Cost on epoch 800: 0.56565\n",
      "Cost on epoch 900: 0.55923\n",
      "Cost on epoch 1000: 0.55553\n",
      "Cost on epoch 1100: 0.54682\n",
      "Cost on epoch 1200: 0.54074\n",
      "Cost on epoch 1300: 0.53218\n",
      "Cost on epoch 1400: 0.52783\n",
      "Cost on epoch 1500: 0.51926\n",
      "Cost on epoch 1600: 0.51236\n",
      "Cost on epoch 1700: 0.50551\n",
      "Cost on epoch 1800: 0.49818\n",
      "Cost on epoch 1900: 0.4925\n",
      "Cost on epoch 2000: 0.48984\n",
      "Cost on epoch 2100: 0.47819\n",
      "Cost on epoch 2200: 0.47218\n",
      "Cost on epoch 2300: 0.46587\n",
      "Cost on epoch 2400: 0.45949\n",
      "Cost on epoch 2500: 0.45947\n"
     ]
    }
   ],
   "source": [
    "reload(model)\n",
    "\n",
    "# Create model\n",
    "pizza = model.Model(cuda=True)\n",
    "pizza.add(layers.Dense(units=32, activation=activations.ReLU()))\n",
    "pizza.add(layers.Dense(units=16, activation=activations.ReLU()))\n",
    "pizza.add(layers.Dense(units=8, activation=activations.ReLU()))\n",
    "pizza.add(layers.Dense(units=1, activation=activations.Sigmoid()))\n",
    "pizza.configure(learning_rate=0.01, epochs=2500, cost_type=costs.BinaryCrossentropy())\n",
    "\n",
    "# Train model\n",
    "pizza.train(train_x, train_y, verbose=True)"
   ]
  },
  {
   "cell_type": "code",
   "execution_count": 16,
   "metadata": {},
   "outputs": [
    {
     "name": "stdout",
     "output_type": "stream",
     "text": [
      "+------------+------------+\n",
      "| Layer type | Parameters |\n",
      "+------------+------------+\n",
      "|   Dense    |   393248   |\n",
      "|   Dense    |    528     |\n",
      "|   Dense    |    136     |\n",
      "|   Dense    |     9      |\n",
      "+------------+------------+\n",
      "Total parameters: 393921\n",
      "\n",
      "Training Accuracy: 0.80596\n",
      "Testing Accuracy: 0.70888\n"
     ]
    }
   ],
   "source": [
    "# Print model summary\n",
    "pizza.summary()\n",
    "\n",
    "# Assess model accuracy\n",
    "pred_train = pizza.predict(train_x, prediction_type=utils.Predictions.binary_classification) # Get model accuracy on training data\n",
    "print('\\nTraining Accuracy: ' + str(np.round(np.sum((pred_train == train_y)/train_x.shape[0]), decimals=5)))\n",
    "pred_test = pizza.predict(test_x, prediction_type=utils.Predictions.binary_classification) # Get model accuracy on testing data\n",
    "print('Testing Accuracy: ' + str(np.round(np.sum((pred_test == test_y)/test_x.shape[0]), decimals=5)))"
   ]
  }
 ],
 "metadata": {
  "kernelspec": {
   "display_name": "Python 3",
   "language": "python",
   "name": "python3"
  },
  "language_info": {
   "codemirror_mode": {
    "name": "ipython",
    "version": 3
   },
   "file_extension": ".py",
   "mimetype": "text/x-python",
   "name": "python",
   "nbconvert_exporter": "python",
   "pygments_lexer": "ipython3",
   "version": "3.11.3"
  }
 },
 "nbformat": 4,
 "nbformat_minor": 2
}
