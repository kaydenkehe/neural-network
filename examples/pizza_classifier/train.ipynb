{
 "cells": [
  {
   "cell_type": "markdown",
   "metadata": {},
   "source": [
    "## Pizza Classifier\n",
    "Determines whether an image contains a pizza<br>\n",
    "Created for CS50<br>\n",
    "Dataset: https://www.kaggle.com/datasets/carlosrunner/pizza-not-pizza<br>\n",
    "Last update: 12/23/23"
   ]
  },
  {
   "cell_type": "code",
   "execution_count": 29,
   "metadata": {},
   "outputs": [],
   "source": [
    "import cv2\n",
    "import cupy as np\n",
    "from importlib import reload\n",
    "from os import listdir\n",
    "from sandbox import model, layers, activations, costs, utils"
   ]
  },
  {
   "cell_type": "code",
   "execution_count": 30,
   "metadata": {},
   "outputs": [],
   "source": [
    "# Load altered pizza dataset\n",
    "dataset_path = 'dataset\\\\altered\\\\'\n",
    "datasets = [\n",
    "    np.array([\n",
    "        cv2.imread(dataset_path + dir + img).flatten()\n",
    "        for img in listdir(dataset_path + dir)\n",
    "    ])\n",
    "    for dir in ['train\\\\pizza\\\\', 'train\\\\not_pizza\\\\', 'test\\\\pizza\\\\', 'test\\\\not_pizza\\\\']\n",
    "]\n",
    "\n",
    "# Create training and testing data\n",
    "train_x = np.concatenate((datasets[0], datasets[1]), axis=0) / 255\n",
    "train_y = np.concatenate((np.ones((datasets[0].shape[0], 1)), np.zeros((datasets[1].shape[0], 1))), axis=0)\n",
    "\n",
    "test_x = np.concatenate((datasets[2], datasets[3]), axis=0) / 255\n",
    "test_y = np.concatenate((np.ones((datasets[2].shape[0], 1)), np.zeros((datasets[3].shape[0], 1))), axis=0)"
   ]
  },
  {
   "cell_type": "code",
   "execution_count": 31,
   "metadata": {},
   "outputs": [
    {
     "name": "stdout",
     "output_type": "stream",
     "text": [
      "Cost on epoch 0: 0.72348\n",
      "Cost on epoch 250: 0.59498\n",
      "Cost on epoch 500: 0.56815\n",
      "Cost on epoch 750: 0.5607\n",
      "Cost on epoch 1000: 0.53586\n",
      "Cost on epoch 1250: 0.50647\n",
      "Cost on epoch 1500: 0.49066\n",
      "Cost on epoch 1750: 0.46156\n",
      "Cost on epoch 2000: 0.43295\n",
      "Cost on epoch 2250: 0.41835\n",
      "Cost on epoch 2500: 0.54516\n"
     ]
    }
   ],
   "source": [
    "reload(model)\n",
    "\n",
    "# Create model\n",
    "pizza = model.Model(cuda=True)\n",
    "pizza.add(layers.Dense(units=32, activation=activations.ReLU()))\n",
    "pizza.add(layers.Dense(units=16, activation=activations.ReLU()))\n",
    "pizza.add(layers.Dense(units=8, activation=activations.ReLU()))\n",
    "pizza.add(layers.Dense(units=1, activation=activations.Sigmoid()))\n",
    "pizza.configure(cost_type=costs.BinaryCrossentropy())\n",
    "\n",
    "# Train model\n",
    "pizza.train(train_x, train_y, learning_rate=0.01, epochs=2500, verbose=True)"
   ]
  },
  {
   "cell_type": "code",
   "execution_count": 34,
   "metadata": {},
   "outputs": [
    {
     "name": "stdout",
     "output_type": "stream",
     "text": [
      "+------------+------------+\n",
      "| Layer type | Parameters |\n",
      "+------------+------------+\n",
      "|   Dense    |   393248   |\n",
      "|   Dense    |    528     |\n",
      "|   Dense    |    136     |\n",
      "|   Dense    |     9      |\n",
      "+------------+------------+\n",
      "Total parameters: 393921\n",
      "\n",
      "Training Accuracy: 0.80679\n",
      "Testing Accuracy: 0.71107\n"
     ]
    }
   ],
   "source": [
    "# Print model summary\n",
    "pizza.summary()\n",
    "\n",
    "# Assess model accuracy\n",
    "pred_train = utils.binary_round(pizza.predict(train_x)) # Get model accuracy on training data\n",
    "print('\\nTraining Accuracy: ' + str(np.round(np.sum((pred_train == train_y)/train_x.shape[0]), decimals=5)))\n",
    "pred_test = utils.binary_round(pizza.predict(test_x)) # Get model accuracy on testing data\n",
    "print('Testing Accuracy: ' + str(np.round(np.sum((pred_test == test_y)/test_x.shape[0]), decimals=5)))"
   ]
  }
 ],
 "metadata": {
  "kernelspec": {
   "display_name": "Python 3",
   "language": "python",
   "name": "python3"
  },
  "language_info": {
   "codemirror_mode": {
    "name": "ipython",
    "version": 3
   },
   "file_extension": ".py",
   "mimetype": "text/x-python",
   "name": "python",
   "nbconvert_exporter": "python",
   "pygments_lexer": "ipython3",
   "version": "3.11.3"
  }
 },
 "nbformat": 4,
 "nbformat_minor": 2
}
