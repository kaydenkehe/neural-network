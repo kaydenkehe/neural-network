{
 "cells": [
  {
   "cell_type": "markdown",
   "metadata": {},
   "source": [
    "## Pong Reinforcement Learning\n",
    "\n",
    "Train a neural network to play pong<br>\n",
    "Last update: 1/2/24"
   ]
  },
  {
   "cell_type": "code",
   "execution_count": 5,
   "metadata": {},
   "outputs": [],
   "source": [
    "from sandbox import activations, costs, initializers, layers, model, optimizers, utils"
   ]
  },
  {
   "cell_type": "code",
   "execution_count": 6,
   "metadata": {},
   "outputs": [],
   "source": [
    "# Create model\n",
    "pong = model.Model()\n",
    "pong.add(layers.Dense(units=2, activation=activations.ReLU()))\n",
    "pong.add(layers.Dense(units=1, activation=activations.Sigmoid()))\n",
    "\n",
    "pong.configure(\n",
    "    input_size=5,\n",
    "    cost_type=costs.BinaryCrossentropy(),\n",
    "    optimizer=optimizers.Adam()\n",
    ")\n",
    "\n",
    "# Save model parameters\n",
    "pong.save(\"pong.json\")"
   ]
  }
 ],
 "metadata": {
  "kernelspec": {
   "display_name": "Python 3",
   "language": "python",
   "name": "python3"
  },
  "language_info": {
   "codemirror_mode": {
    "name": "ipython",
    "version": 3
   },
   "file_extension": ".py",
   "mimetype": "text/x-python",
   "name": "python",
   "nbconvert_exporter": "python",
   "pygments_lexer": "ipython3",
   "version": "3.11.3"
  }
 },
 "nbformat": 4,
 "nbformat_minor": 2
}
