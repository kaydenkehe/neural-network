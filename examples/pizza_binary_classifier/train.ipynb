{
 "cells": [
  {
   "cell_type": "code",
   "execution_count": 1,
   "metadata": {},
   "outputs": [],
   "source": [
    "import cv2\n",
    "import cupy as np\n",
    "from os import listdir\n",
    "from sandbox import activations, costs, layers, predictions, model"
   ]
  },
  {
   "cell_type": "code",
   "execution_count": 2,
   "metadata": {},
   "outputs": [],
   "source": [
    "# Load altered pizza dataset\n",
    "dataset_path = 'dataset\\\\altered\\\\'\n",
    "datasets = [\n",
    "    np.array([\n",
    "        cv2.imread(dataset_path + dir + img).flatten()\n",
    "        for img in listdir(dataset_path + dir)\n",
    "    ])\n",
    "    for dir in ['train\\\\pizza\\\\', 'train\\\\not_pizza\\\\', 'test\\\\pizza\\\\', 'test\\\\not_pizza\\\\']\n",
    "]\n",
    "\n",
    "# Create training and testing data\n",
    "train_x = np.concatenate((datasets[0], datasets[1]), axis=0) / 255\n",
    "train_y = np.concatenate((np.ones((datasets[0].shape[0], 1)), np.zeros((datasets[1].shape[0], 1))), axis=0)\n",
    "\n",
    "test_x = np.concatenate((datasets[2], datasets[3]), axis=0) / 255\n",
    "test_y = np.concatenate((np.ones((datasets[2].shape[0], 1)), np.zeros((datasets[3].shape[0], 1))), axis=0)"
   ]
  },
  {
   "cell_type": "code",
   "execution_count": 3,
   "metadata": {},
   "outputs": [
    {
     "name": "stdout",
     "output_type": "stream",
     "text": [
      "Cost on epoch 0: 0.70747\n",
      "Cost on epoch 100: 0.65237\n",
      "Cost on epoch 200: 0.63867\n",
      "Cost on epoch 300: 0.62769\n",
      "Cost on epoch 400: 0.61934\n",
      "Cost on epoch 500: 0.6128\n",
      "Cost on epoch 600: 0.60599\n",
      "Cost on epoch 700: 0.59919\n",
      "Cost on epoch 800: 0.59212\n",
      "Cost on epoch 900: 0.58475\n",
      "Cost on epoch 1000: 0.57887\n",
      "Cost on epoch 1100: 0.57311\n",
      "Cost on epoch 1200: 0.5666\n",
      "Cost on epoch 1300: 0.56142\n",
      "Cost on epoch 1400: 0.55693\n",
      "Cost on epoch 1500: 0.55357\n",
      "Cost on epoch 1600: 0.547\n",
      "Cost on epoch 1700: 0.54353\n",
      "Cost on epoch 1800: 0.53919\n",
      "Cost on epoch 1900: 0.53522\n",
      "Cost on epoch 2000: 0.52829\n",
      "Cost on epoch 2100: 0.52488\n",
      "Cost on epoch 2200: 0.521\n",
      "Cost on epoch 2300: 0.51507\n",
      "Cost on epoch 2400: 0.51234\n",
      "Cost on epoch 2500: 0.51034\n"
     ]
    }
   ],
   "source": [
    "# Create model\n",
    "pizza = model.Model(cuda=True)\n",
    "pizza.add(layers.Dense(units=32, activation=activations.ReLU()))\n",
    "pizza.add(layers.Dense(units=16, activation=activations.ReLU()))\n",
    "pizza.add(layers.Dense(units=8, activation=activations.ReLU()))\n",
    "pizza.add(layers.Dense(units=1, activation=activations.Sigmoid()))\n",
    "pizza.configure(learning_rate=0.01, epochs=2500, cost_type=costs.BinaryCrossentropy())\n",
    "\n",
    "# Train model\n",
    "pizza.train(train_x, train_y, verbose=True)"
   ]
  },
  {
   "cell_type": "code",
   "execution_count": 4,
   "metadata": {},
   "outputs": [
    {
     "name": "stdout",
     "output_type": "stream",
     "text": [
      "\n",
      "Training Accuracy: 0.77301\n",
      "Testing Accuracy: 0.71217\n"
     ]
    }
   ],
   "source": [
    "# Assess model accuracy\n",
    "pred_train = pizza.predict(train_x, prediction_type=predictions.binary_classification) # Get model accuracy on training data\n",
    "print('\\nTraining Accuracy: ' + str(np.round(np.sum((pred_train == train_y)/train_x.shape[0]), decimals=5)))\n",
    "pred_test = pizza.predict(test_x, prediction_type=predictions.binary_classification) # Get model accuracy on testing data\n",
    "print('Testing Accuracy: ' + str(np.round(np.sum((pred_test == test_y)/test_x.shape[0]), decimals=5)))"
   ]
  }
 ],
 "metadata": {
  "kernelspec": {
   "display_name": "Python 3",
   "language": "python",
   "name": "python3"
  },
  "language_info": {
   "codemirror_mode": {
    "name": "ipython",
    "version": 3
   },
   "file_extension": ".py",
   "mimetype": "text/x-python",
   "name": "python",
   "nbconvert_exporter": "python",
   "pygments_lexer": "ipython3",
   "version": "3.11.3"
  }
 },
 "nbformat": 4,
 "nbformat_minor": 2
}
