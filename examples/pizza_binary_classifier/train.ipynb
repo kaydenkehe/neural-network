{
 "cells": [
  {
   "cell_type": "code",
   "execution_count": 1,
   "metadata": {},
   "outputs": [],
   "source": [
    "import cv2\n",
    "import cupy as np\n",
    "from os import listdir\n",
    "from sandbox import activations, costs, layers, predictions, model"
   ]
  },
  {
   "cell_type": "code",
   "execution_count": 9,
   "metadata": {},
   "outputs": [],
   "source": [
    "# Load altered pizza dataset\n",
    "dataset_path = 'dataset\\\\altered\\\\'\n",
    "datasets = [\n",
    "    np.array([\n",
    "        cv2.imread(dataset_path + dir + img).flatten()\n",
    "        for img in listdir(dataset_path + dir)\n",
    "    ])\n",
    "    for dir in ['train\\\\pizza\\\\', 'train\\\\not_pizza\\\\', 'test\\\\pizza\\\\', 'test\\\\not_pizza\\\\']\n",
    "]\n",
    "\n",
    "# Create training and testing data\n",
    "train_x = np.concatenate((datasets[0], datasets[1]), axis=0) / 255\n",
    "train_y = np.concatenate((np.ones((datasets[0].shape[0], 1)), np.zeros((datasets[1].shape[0], 1))), axis=0)\n",
    "\n",
    "test_x = np.concatenate((datasets[2], datasets[3]), axis=0) / 255\n",
    "test_y = np.concatenate((np.ones((datasets[2].shape[0], 1)), np.zeros((datasets[3].shape[0], 1))), axis=0)"
   ]
  },
  {
   "cell_type": "code",
   "execution_count": 8,
   "metadata": {},
   "outputs": [
    {
     "name": "stdout",
     "output_type": "stream",
     "text": [
      "c:\\users\\kayde\\onedrive\\documents\\ai\\neural-network\\neural-network\\src\\sandbox\\model.py\n"
     ]
    }
   ],
   "source": [
    "print(model.__file__)"
   ]
  },
  {
   "cell_type": "code",
   "execution_count": 10,
   "metadata": {},
   "outputs": [
    {
     "name": "stdout",
     "output_type": "stream",
     "text": [
      "Cost on epoch 0: 0.71144\n",
      "Cost on epoch 100: 0.69657\n",
      "Cost on epoch 200: 0.69398\n",
      "Cost on epoch 300: 0.69336\n",
      "Cost on epoch 400: 0.6932\n",
      "Cost on epoch 500: 0.69316\n",
      "Cost on epoch 600: 0.69315\n"
     ]
    },
    {
     "ename": "KeyboardInterrupt",
     "evalue": "",
     "output_type": "error",
     "traceback": [
      "\u001b[1;31m---------------------------------------------------------------------------\u001b[0m",
      "\u001b[1;31mKeyboardInterrupt\u001b[0m                         Traceback (most recent call last)",
      "Cell \u001b[1;32mIn[10], line 10\u001b[0m\n\u001b[0;32m      7\u001b[0m pizza\u001b[38;5;241m.\u001b[39mconfigure(learning_rate\u001b[38;5;241m=\u001b[39m\u001b[38;5;241m0.01\u001b[39m, epochs\u001b[38;5;241m=\u001b[39m\u001b[38;5;241m2500\u001b[39m, cost_type\u001b[38;5;241m=\u001b[39mcosts\u001b[38;5;241m.\u001b[39mBinaryCrossentropy())\n\u001b[0;32m      9\u001b[0m \u001b[38;5;66;03m# Train model\u001b[39;00m\n\u001b[1;32m---> 10\u001b[0m \u001b[43mpizza\u001b[49m\u001b[38;5;241;43m.\u001b[39;49m\u001b[43mtrain\u001b[49m\u001b[43m(\u001b[49m\u001b[43mtrain_x\u001b[49m\u001b[43m,\u001b[49m\u001b[43m \u001b[49m\u001b[43mtrain_y\u001b[49m\u001b[43m,\u001b[49m\u001b[43m \u001b[49m\u001b[43mverbose\u001b[49m\u001b[38;5;241;43m=\u001b[39;49m\u001b[38;5;28;43;01mTrue\u001b[39;49;00m\u001b[43m)\u001b[49m\n",
      "File \u001b[1;32mc:\\users\\kayde\\onedrive\\documents\\ai\\neural-network\\neural-network\\src\\sandbox\\model.py:41\u001b[0m, in \u001b[0;36mModel.train\u001b[1;34m(self, X, Y, verbose)\u001b[0m\n\u001b[0;32m     39\u001b[0m \u001b[38;5;66;03m# Loop through epochs\u001b[39;00m\n\u001b[0;32m     40\u001b[0m \u001b[38;5;28;01mfor\u001b[39;00m i \u001b[38;5;129;01min\u001b[39;00m \u001b[38;5;28mrange\u001b[39m(\u001b[38;5;28mself\u001b[39m\u001b[38;5;241m.\u001b[39mepochs \u001b[38;5;241m+\u001b[39m \u001b[38;5;241m1\u001b[39m):\n\u001b[1;32m---> 41\u001b[0m     X, Y \u001b[38;5;241m=\u001b[39m \u001b[38;5;28;43mself\u001b[39;49m\u001b[38;5;241;43m.\u001b[39;49m\u001b[43mshuffle\u001b[49m\u001b[43m(\u001b[49m\u001b[43mX\u001b[49m\u001b[43m,\u001b[49m\u001b[43m \u001b[49m\u001b[43mY\u001b[49m\u001b[43m)\u001b[49m \u001b[38;5;66;03m# Shuffle data\u001b[39;00m\n\u001b[0;32m     42\u001b[0m     AL \u001b[38;5;241m=\u001b[39m \u001b[38;5;28mself\u001b[39m\u001b[38;5;241m.\u001b[39mforward_pass(X) \u001b[38;5;66;03m# Forward propagate\u001b[39;00m\n\u001b[0;32m     43\u001b[0m     cost \u001b[38;5;241m=\u001b[39m \u001b[38;5;28mself\u001b[39m\u001b[38;5;241m.\u001b[39mcost_type\u001b[38;5;241m.\u001b[39mforward(AL, Y) \u001b[38;5;66;03m# Calculate cost\u001b[39;00m\n",
      "File \u001b[1;32mc:\\users\\kayde\\onedrive\\documents\\ai\\neural-network\\neural-network\\src\\sandbox\\model.py:71\u001b[0m, in \u001b[0;36mModel.shuffle\u001b[1;34m(self, X, Y)\u001b[0m\n\u001b[0;32m     69\u001b[0m \u001b[38;5;28;01massert\u001b[39;00m X\u001b[38;5;241m.\u001b[39mshape[\u001b[38;5;241m1\u001b[39m] \u001b[38;5;241m==\u001b[39m Y\u001b[38;5;241m.\u001b[39mshape[\u001b[38;5;241m1\u001b[39m]\n\u001b[0;32m     70\u001b[0m permutation \u001b[38;5;241m=\u001b[39m np\u001b[38;5;241m.\u001b[39mrandom\u001b[38;5;241m.\u001b[39mpermutation(X\u001b[38;5;241m.\u001b[39mshape[\u001b[38;5;241m1\u001b[39m])\n\u001b[1;32m---> 71\u001b[0m \u001b[38;5;28;01mreturn\u001b[39;00m \u001b[43mX\u001b[49m\u001b[43m[\u001b[49m\u001b[43m:\u001b[49m\u001b[43m,\u001b[49m\u001b[43m \u001b[49m\u001b[43mpermutation\u001b[49m\u001b[43m]\u001b[49m, Y[:, permutation]\n",
      "File \u001b[1;32mcupy\\_core\\core.pyx:1521\u001b[0m, in \u001b[0;36mcupy._core.core._ndarray_base.__getitem__\u001b[1;34m()\u001b[0m\n",
      "File \u001b[1;32mcupy\\_core\\_routines_indexing.pyx:42\u001b[0m, in \u001b[0;36mcupy._core._routines_indexing._ndarray_getitem\u001b[1;34m()\u001b[0m\n",
      "File \u001b[1;32mcupy\\_core\\core.pyx:829\u001b[0m, in \u001b[0;36mcupy._core.core._ndarray_base.take\u001b[1;34m()\u001b[0m\n",
      "File \u001b[1;32mcupy\\_core\\_routines_indexing.pyx:131\u001b[0m, in \u001b[0;36mcupy._core._routines_indexing._ndarray_take\u001b[1;34m()\u001b[0m\n",
      "File \u001b[1;32mcupy\\_core\\_routines_indexing.pyx:786\u001b[0m, in \u001b[0;36mcupy._core._routines_indexing._take\u001b[1;34m()\u001b[0m\n",
      "File \u001b[1;32mc:\\Users\\kayde\\AppData\\Local\\Programs\\Python\\Python311\\Lib\\site-packages\\numpy\\core\\numeric.py:1855\u001b[0m, in \u001b[0;36misscalar\u001b[1;34m(element)\u001b[0m\n\u001b[0;32m   1851\u001b[0m \u001b[38;5;28;01mdef\u001b[39;00m \u001b[38;5;21m_frombuffer\u001b[39m(buf, dtype, shape, order):\n\u001b[0;32m   1852\u001b[0m     \u001b[38;5;28;01mreturn\u001b[39;00m frombuffer(buf, dtype\u001b[38;5;241m=\u001b[39mdtype)\u001b[38;5;241m.\u001b[39mreshape(shape, order\u001b[38;5;241m=\u001b[39morder)\n\u001b[1;32m-> 1855\u001b[0m \u001b[38;5;129m@set_module\u001b[39m(\u001b[38;5;124m'\u001b[39m\u001b[38;5;124mnumpy\u001b[39m\u001b[38;5;124m'\u001b[39m)\n\u001b[0;32m   1856\u001b[0m \u001b[38;5;28;01mdef\u001b[39;00m \u001b[38;5;21misscalar\u001b[39m(element):\n\u001b[0;32m   1857\u001b[0m \u001b[38;5;250m    \u001b[39m\u001b[38;5;124;03m\"\"\"\u001b[39;00m\n\u001b[0;32m   1858\u001b[0m \u001b[38;5;124;03m    Returns True if the type of `element` is a scalar type.\u001b[39;00m\n\u001b[0;32m   1859\u001b[0m \n\u001b[1;32m   (...)\u001b[0m\n\u001b[0;32m   1929\u001b[0m \n\u001b[0;32m   1930\u001b[0m \u001b[38;5;124;03m    \"\"\"\u001b[39;00m\n\u001b[0;32m   1931\u001b[0m     \u001b[38;5;28;01mreturn\u001b[39;00m (\u001b[38;5;28misinstance\u001b[39m(element, generic)\n\u001b[0;32m   1932\u001b[0m             \u001b[38;5;129;01mor\u001b[39;00m \u001b[38;5;28mtype\u001b[39m(element) \u001b[38;5;129;01min\u001b[39;00m ScalarType\n\u001b[0;32m   1933\u001b[0m             \u001b[38;5;129;01mor\u001b[39;00m \u001b[38;5;28misinstance\u001b[39m(element, numbers\u001b[38;5;241m.\u001b[39mNumber))\n",
      "\u001b[1;31mKeyboardInterrupt\u001b[0m: "
     ]
    }
   ],
   "source": [
    "# Create model\n",
    "pizza = model.Model(cuda=True)\n",
    "pizza.add(layers.Dense(units=32, activation=activations.ReLU()))\n",
    "pizza.add(layers.Dense(units=16, activation=activations.ReLU()))\n",
    "pizza.add(layers.Dense(units=8, activation=activations.ReLU()))\n",
    "pizza.add(layers.Dense(units=1, activation=activations.Sigmoid()))\n",
    "pizza.configure(learning_rate=0.01, epochs=2500, cost_type=costs.BinaryCrossentropy())\n",
    "\n",
    "# Train model\n",
    "pizza.train(train_x, train_y, verbose=True)"
   ]
  },
  {
   "cell_type": "code",
   "execution_count": 5,
   "metadata": {},
   "outputs": [
    {
     "name": "stdout",
     "output_type": "stream",
     "text": [
      "\n",
      "Training Accuracy: 0.74685\n",
      "Testing Accuracy: 0.67105\n"
     ]
    }
   ],
   "source": [
    "# Assess model accuracy\n",
    "pred_train = pizza.predict(train_x, prediction_type=predictions.binary_classification) # Get model accuracy on training data\n",
    "print('\\nTraining Accuracy: ' + str(np.round(np.sum((pred_train == train_y)/train_x.shape[0]), decimals=5)))\n",
    "pred_test = pizza.predict(test_x, prediction_type=predictions.binary_classification) # Get model accuracy on testing data\n",
    "print('Testing Accuracy: ' + str(np.round(np.sum((pred_test == test_y)/test_x.shape[0]), decimals=5)))"
   ]
  }
 ],
 "metadata": {
  "kernelspec": {
   "display_name": "Python 3",
   "language": "python",
   "name": "python3"
  },
  "language_info": {
   "codemirror_mode": {
    "name": "ipython",
    "version": 3
   },
   "file_extension": ".py",
   "mimetype": "text/x-python",
   "name": "python",
   "nbconvert_exporter": "python",
   "pygments_lexer": "ipython3",
   "version": "3.11.3"
  }
 },
 "nbformat": 4,
 "nbformat_minor": 2
}
